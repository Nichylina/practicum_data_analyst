{
 "cells": [
  {
   "cell_type": "markdown",
   "metadata": {},
   "source": [
    "# Анализ списка гипотез для увеличения выручки.\n",
    "\n",
    "Мне предстоит проанализировать данные крупного интернет-магазина. Мы имеем список гипотез для увеличения выручки.\n",
    "\n",
    "Цель проекта:\n",
    "- Приоритизировать гипотезы, запустить A/B-тест и проанализируйте результаты. \n",
    "В моем распоряжении следующие данные: \n",
    "- В файле /datasets/hypothesis.csv 9 гипотез по увеличению выручки интернет-магазина с указанными параметрами Reach, Impact, Confidence, Effort.\n",
    "- Результаты A/B-тест, которые описаны в файлах /datasets/orders.csv и /datasets/visitors.csv.\n",
    "\n",
    "Таким образом, мое исследование пройдет в 2 основных этапа:\n",
    "- Часть 1. Приоритизация гипотез.\n",
    "- Часть 2. Анализ A/B-теста"
   ]
  },
  {
   "cell_type": "markdown",
   "metadata": {},
   "source": [
    "## Часть 1. Приоритизация гипотез."
   ]
  },
  {
   "cell_type": "markdown",
   "metadata": {},
   "source": [
    "### Для начала загрузим данные и подготовим их к анализу"
   ]
  },
  {
   "cell_type": "code",
   "execution_count": 1,
   "metadata": {},
   "outputs": [],
   "source": [
    "import pandas as pd\n",
    "import datetime as dt\n",
    "import numpy as np\n",
    "import matplotlib.pyplot as plt\n",
    "from pandas.plotting import register_matplotlib_converters\n",
    "import warnings\n",
    "import scipy.stats as stats\n",
    "register_matplotlib_converters()"
   ]
  },
  {
   "cell_type": "code",
   "execution_count": 2,
   "metadata": {},
   "outputs": [],
   "source": [
    "try:\n",
    "   hypothesis = pd.read_csv('/Users/osipovamichilina/Documents/hypothesis.csv')\n",
    "\n",
    "except:\n",
    "   hypothesis = pd.read_csv('/datasets/hypothesis.csv', sep=',')"
   ]
  },
  {
   "cell_type": "code",
   "execution_count": 3,
   "metadata": {},
   "outputs": [],
   "source": [
    "try:\n",
    "   orders = pd.read_csv('/Users/osipovamichilina/Documents/orders.csv')\n",
    "\n",
    "except:\n",
    "   orders = pd.read_csv('/datasets/orders.csv', sep=',')"
   ]
  },
  {
   "cell_type": "code",
   "execution_count": 4,
   "metadata": {},
   "outputs": [],
   "source": [
    "try:\n",
    "   visitors = pd.read_csv('/Users/osipovamichilina/Documents/visitors.csv')\n",
    "\n",
    "except:\n",
    "   visitors = pd.read_csv('/datasets/visitors.csv', sep=',')"
   ]
  },
  {
   "cell_type": "code",
   "execution_count": 5,
   "metadata": {},
   "outputs": [
    {
     "name": "stdout",
     "output_type": "stream",
     "text": [
      "<class 'pandas.core.frame.DataFrame'>\n",
      "RangeIndex: 9 entries, 0 to 8\n",
      "Data columns (total 5 columns):\n",
      " #   Column      Non-Null Count  Dtype \n",
      "---  ------      --------------  ----- \n",
      " 0   Hypothesis  9 non-null      object\n",
      " 1   Reach       9 non-null      int64 \n",
      " 2   Impact      9 non-null      int64 \n",
      " 3   Confidence  9 non-null      int64 \n",
      " 4   Efforts     9 non-null      int64 \n",
      "dtypes: int64(4), object(1)\n",
      "memory usage: 488.0+ bytes\n",
      "<class 'pandas.core.frame.DataFrame'>\n",
      "RangeIndex: 1197 entries, 0 to 1196\n",
      "Data columns (total 5 columns):\n",
      " #   Column         Non-Null Count  Dtype \n",
      "---  ------         --------------  ----- \n",
      " 0   transactionId  1197 non-null   int64 \n",
      " 1   visitorId      1197 non-null   int64 \n",
      " 2   date           1197 non-null   object\n",
      " 3   revenue        1197 non-null   int64 \n",
      " 4   group          1197 non-null   object\n",
      "dtypes: int64(3), object(2)\n",
      "memory usage: 46.9+ KB\n",
      "<class 'pandas.core.frame.DataFrame'>\n",
      "RangeIndex: 62 entries, 0 to 61\n",
      "Data columns (total 3 columns):\n",
      " #   Column    Non-Null Count  Dtype \n",
      "---  ------    --------------  ----- \n",
      " 0   date      62 non-null     object\n",
      " 1   group     62 non-null     object\n",
      " 2   visitors  62 non-null     int64 \n",
      "dtypes: int64(1), object(2)\n",
      "memory usage: 1.6+ KB\n"
     ]
    }
   ],
   "source": [
    "hypothesis.info()\n",
    "orders.info()\n",
    "visitors.info()"
   ]
  },
  {
   "cell_type": "code",
   "execution_count": 6,
   "metadata": {},
   "outputs": [],
   "source": [
    "hypothesis.columns = hypothesis.columns.str.lower()\n",
    "orders.columns = orders.columns.str.lower()\n",
    "visitors.columns = visitors.columns.str.lower()"
   ]
  },
  {
   "cell_type": "code",
   "execution_count": 7,
   "metadata": {},
   "outputs": [
    {
     "data": {
      "text/html": [
       "<div>\n",
       "<style scoped>\n",
       "    .dataframe tbody tr th:only-of-type {\n",
       "        vertical-align: middle;\n",
       "    }\n",
       "\n",
       "    .dataframe tbody tr th {\n",
       "        vertical-align: top;\n",
       "    }\n",
       "\n",
       "    .dataframe thead th {\n",
       "        text-align: right;\n",
       "    }\n",
       "</style>\n",
       "<table border=\"1\" class=\"dataframe\">\n",
       "  <thead>\n",
       "    <tr style=\"text-align: right;\">\n",
       "      <th></th>\n",
       "      <th>transactionid</th>\n",
       "      <th>visitorid</th>\n",
       "      <th>date</th>\n",
       "      <th>revenue</th>\n",
       "      <th>group</th>\n",
       "    </tr>\n",
       "  </thead>\n",
       "  <tbody>\n",
       "    <tr>\n",
       "      <th>0</th>\n",
       "      <td>3667963787</td>\n",
       "      <td>3312258926</td>\n",
       "      <td>2019-08-15</td>\n",
       "      <td>1650</td>\n",
       "      <td>B</td>\n",
       "    </tr>\n",
       "    <tr>\n",
       "      <th>1</th>\n",
       "      <td>2804400009</td>\n",
       "      <td>3642806036</td>\n",
       "      <td>2019-08-15</td>\n",
       "      <td>730</td>\n",
       "      <td>B</td>\n",
       "    </tr>\n",
       "    <tr>\n",
       "      <th>2</th>\n",
       "      <td>2961555356</td>\n",
       "      <td>4069496402</td>\n",
       "      <td>2019-08-15</td>\n",
       "      <td>400</td>\n",
       "      <td>A</td>\n",
       "    </tr>\n",
       "    <tr>\n",
       "      <th>3</th>\n",
       "      <td>3797467345</td>\n",
       "      <td>1196621759</td>\n",
       "      <td>2019-08-15</td>\n",
       "      <td>9759</td>\n",
       "      <td>B</td>\n",
       "    </tr>\n",
       "    <tr>\n",
       "      <th>4</th>\n",
       "      <td>2282983706</td>\n",
       "      <td>2322279887</td>\n",
       "      <td>2019-08-15</td>\n",
       "      <td>2308</td>\n",
       "      <td>B</td>\n",
       "    </tr>\n",
       "  </tbody>\n",
       "</table>\n",
       "</div>"
      ],
      "text/plain": [
       "   transactionid   visitorid        date  revenue group\n",
       "0     3667963787  3312258926  2019-08-15     1650     B\n",
       "1     2804400009  3642806036  2019-08-15      730     B\n",
       "2     2961555356  4069496402  2019-08-15      400     A\n",
       "3     3797467345  1196621759  2019-08-15     9759     B\n",
       "4     2282983706  2322279887  2019-08-15     2308     B"
      ]
     },
     "execution_count": 7,
     "metadata": {},
     "output_type": "execute_result"
    }
   ],
   "source": [
    "orders.head(5)"
   ]
  },
  {
   "cell_type": "code",
   "execution_count": 8,
   "metadata": {},
   "outputs": [
    {
     "name": "stdout",
     "output_type": "stream",
     "text": [
      "<class 'pandas.core.frame.DataFrame'>\n",
      "RangeIndex: 1197 entries, 0 to 1196\n",
      "Data columns (total 5 columns):\n",
      " #   Column         Non-Null Count  Dtype \n",
      "---  ------         --------------  ----- \n",
      " 0   transactionid  1197 non-null   int64 \n",
      " 1   visitorid      1197 non-null   int64 \n",
      " 2   date           1197 non-null   object\n",
      " 3   revenue        1197 non-null   int64 \n",
      " 4   group          1197 non-null   object\n",
      "dtypes: int64(3), object(2)\n",
      "memory usage: 46.9+ KB\n"
     ]
    }
   ],
   "source": [
    "orders.info(5)"
   ]
  },
  {
   "cell_type": "code",
   "execution_count": 9,
   "metadata": {},
   "outputs": [],
   "source": [
    "orders['transactionid'] = orders['transactionid'].astype('object')"
   ]
  },
  {
   "cell_type": "code",
   "execution_count": 10,
   "metadata": {},
   "outputs": [],
   "source": [
    "orders['visitorid'] = orders['visitorid'].astype('object')"
   ]
  },
  {
   "cell_type": "code",
   "execution_count": 11,
   "metadata": {},
   "outputs": [
    {
     "name": "stdout",
     "output_type": "stream",
     "text": [
      "<class 'pandas.core.frame.DataFrame'>\n",
      "RangeIndex: 1197 entries, 0 to 1196\n",
      "Data columns (total 5 columns):\n",
      " #   Column         Non-Null Count  Dtype \n",
      "---  ------         --------------  ----- \n",
      " 0   transactionid  1197 non-null   object\n",
      " 1   visitorid      1197 non-null   object\n",
      " 2   date           1197 non-null   object\n",
      " 3   revenue        1197 non-null   int64 \n",
      " 4   group          1197 non-null   object\n",
      "dtypes: int64(1), object(4)\n",
      "memory usage: 46.9+ KB\n"
     ]
    }
   ],
   "source": [
    "orders.info(5)"
   ]
  },
  {
   "cell_type": "code",
   "execution_count": 12,
   "metadata": {},
   "outputs": [
    {
     "data": {
      "text/html": [
       "<div>\n",
       "<style scoped>\n",
       "    .dataframe tbody tr th:only-of-type {\n",
       "        vertical-align: middle;\n",
       "    }\n",
       "\n",
       "    .dataframe tbody tr th {\n",
       "        vertical-align: top;\n",
       "    }\n",
       "\n",
       "    .dataframe thead th {\n",
       "        text-align: right;\n",
       "    }\n",
       "</style>\n",
       "<table border=\"1\" class=\"dataframe\">\n",
       "  <thead>\n",
       "    <tr style=\"text-align: right;\">\n",
       "      <th></th>\n",
       "      <th>group</th>\n",
       "      <th>transactionid</th>\n",
       "      <th>visitorid</th>\n",
       "    </tr>\n",
       "  </thead>\n",
       "  <tbody>\n",
       "    <tr>\n",
       "      <th>0</th>\n",
       "      <td>A</td>\n",
       "      <td>1191226823565</td>\n",
       "      <td>1211535685633</td>\n",
       "    </tr>\n",
       "    <tr>\n",
       "      <th>1</th>\n",
       "      <td>B</td>\n",
       "      <td>1389051974914</td>\n",
       "      <td>1381118605657</td>\n",
       "    </tr>\n",
       "  </tbody>\n",
       "</table>\n",
       "</div>"
      ],
      "text/plain": [
       "  group  transactionid      visitorid\n",
       "0     A  1191226823565  1211535685633\n",
       "1     B  1389051974914  1381118605657"
      ]
     },
     "execution_count": 12,
     "metadata": {},
     "output_type": "execute_result"
    }
   ],
   "source": [
    "orders_new = (\n",
    "    orders.groupby('group', as_index=False)\n",
    "    .agg({'transactionid': 'sum',\n",
    "         'visitorid': 'sum',}))\n",
    "orders_new.head(5)"
   ]
  },
  {
   "cell_type": "code",
   "execution_count": 13,
   "metadata": {},
   "outputs": [
    {
     "data": {
      "text/plain": [
       "hypothesis    0\n",
       "reach         0\n",
       "impact        0\n",
       "confidence    0\n",
       "efforts       0\n",
       "dtype: int64"
      ]
     },
     "execution_count": 13,
     "metadata": {},
     "output_type": "execute_result"
    }
   ],
   "source": [
    "# проверим данные на наличие пропусков\n",
    "hypothesis.isna().sum()"
   ]
  },
  {
   "cell_type": "code",
   "execution_count": 14,
   "metadata": {},
   "outputs": [
    {
     "data": {
      "text/plain": [
       "transactionid    0\n",
       "visitorid        0\n",
       "date             0\n",
       "revenue          0\n",
       "group            0\n",
       "dtype: int64"
      ]
     },
     "execution_count": 14,
     "metadata": {},
     "output_type": "execute_result"
    }
   ],
   "source": [
    "orders.isna().sum()"
   ]
  },
  {
   "cell_type": "code",
   "execution_count": 15,
   "metadata": {},
   "outputs": [
    {
     "data": {
      "text/plain": [
       "date        0\n",
       "group       0\n",
       "visitors    0\n",
       "dtype: int64"
      ]
     },
     "execution_count": 15,
     "metadata": {},
     "output_type": "execute_result"
    }
   ],
   "source": [
    "visitors.isna().sum()"
   ]
  },
  {
   "cell_type": "code",
   "execution_count": 16,
   "metadata": {},
   "outputs": [
    {
     "data": {
      "text/plain": [
       "0"
      ]
     },
     "execution_count": 16,
     "metadata": {},
     "output_type": "execute_result"
    }
   ],
   "source": [
    "# проверим данные на наличие дубликатов\n",
    "\n",
    "hypothesis.duplicated().sum()"
   ]
  },
  {
   "cell_type": "code",
   "execution_count": 17,
   "metadata": {},
   "outputs": [
    {
     "data": {
      "text/plain": [
       "0"
      ]
     },
     "execution_count": 17,
     "metadata": {},
     "output_type": "execute_result"
    }
   ],
   "source": [
    "orders.duplicated().sum()"
   ]
  },
  {
   "cell_type": "code",
   "execution_count": 18,
   "metadata": {},
   "outputs": [
    {
     "data": {
      "text/plain": [
       "0"
      ]
     },
     "execution_count": 18,
     "metadata": {},
     "output_type": "execute_result"
    }
   ],
   "source": [
    "visitors.duplicated().sum()"
   ]
  },
  {
   "cell_type": "code",
   "execution_count": 19,
   "metadata": {},
   "outputs": [],
   "source": [
    "datesGroups = orders[['date', 'group']].drop_duplicates()"
   ]
  },
  {
   "cell_type": "code",
   "execution_count": 20,
   "metadata": {},
   "outputs": [
    {
     "data": {
      "text/plain": [
       "'2019-08-01'"
      ]
     },
     "execution_count": 20,
     "metadata": {},
     "output_type": "execute_result"
    }
   ],
   "source": [
    "orders['date'].min()"
   ]
  },
  {
   "cell_type": "code",
   "execution_count": 21,
   "metadata": {},
   "outputs": [
    {
     "data": {
      "text/plain": [
       "'2019-08-31'"
      ]
     },
     "execution_count": 21,
     "metadata": {},
     "output_type": "execute_result"
    }
   ],
   "source": [
    "orders['date'].max()"
   ]
  },
  {
   "cell_type": "markdown",
   "metadata": {},
   "source": [
    "1) Анализируемые данные не имеют пропусков, а также дубликатов. Это очень хорошо) Типы данных приведены в соответствие необходимому типу данных. Для удобства названия столбцов приведены к нижнему регистру.\n",
    "\n",
    "2) Предобработка данных показала что у нас две группы А и В. По таблице orders мы определили, количество пользователей и заказов по группам. Определили даты начала и конца теста, тест длился с 1 по 31 августа 2019 года.\n",
    "\n",
    "3) Создали массив уникальных пар значений дат и групп теста методом drop_duplicates()"
   ]
  },
  {
   "cell_type": "markdown",
   "metadata": {},
   "source": [
    "### Примените фреймворк ICE для приоритизации гипотез. Отсортируйте их по убыванию приоритета."
   ]
  },
  {
   "cell_type": "code",
   "execution_count": 22,
   "metadata": {},
   "outputs": [
    {
     "data": {
      "text/html": [
       "<div>\n",
       "<style scoped>\n",
       "    .dataframe tbody tr th:only-of-type {\n",
       "        vertical-align: middle;\n",
       "    }\n",
       "\n",
       "    .dataframe tbody tr th {\n",
       "        vertical-align: top;\n",
       "    }\n",
       "\n",
       "    .dataframe thead th {\n",
       "        text-align: right;\n",
       "    }\n",
       "</style>\n",
       "<table border=\"1\" class=\"dataframe\">\n",
       "  <thead>\n",
       "    <tr style=\"text-align: right;\">\n",
       "      <th></th>\n",
       "      <th>hypothesis</th>\n",
       "      <th>reach</th>\n",
       "      <th>impact</th>\n",
       "      <th>confidence</th>\n",
       "      <th>efforts</th>\n",
       "    </tr>\n",
       "  </thead>\n",
       "  <tbody>\n",
       "    <tr>\n",
       "      <th>0</th>\n",
       "      <td>Добавить два новых канала привлечения трафика,...</td>\n",
       "      <td>3</td>\n",
       "      <td>10</td>\n",
       "      <td>8</td>\n",
       "      <td>6</td>\n",
       "    </tr>\n",
       "    <tr>\n",
       "      <th>1</th>\n",
       "      <td>Запустить собственную службу доставки, что сок...</td>\n",
       "      <td>2</td>\n",
       "      <td>5</td>\n",
       "      <td>4</td>\n",
       "      <td>10</td>\n",
       "    </tr>\n",
       "    <tr>\n",
       "      <th>2</th>\n",
       "      <td>Добавить блоки рекомендаций товаров на сайт ин...</td>\n",
       "      <td>8</td>\n",
       "      <td>3</td>\n",
       "      <td>7</td>\n",
       "      <td>3</td>\n",
       "    </tr>\n",
       "    <tr>\n",
       "      <th>3</th>\n",
       "      <td>Изменить структура категорий, что увеличит кон...</td>\n",
       "      <td>8</td>\n",
       "      <td>3</td>\n",
       "      <td>3</td>\n",
       "      <td>8</td>\n",
       "    </tr>\n",
       "    <tr>\n",
       "      <th>4</th>\n",
       "      <td>Изменить цвет фона главной страницы, чтобы уве...</td>\n",
       "      <td>3</td>\n",
       "      <td>1</td>\n",
       "      <td>1</td>\n",
       "      <td>1</td>\n",
       "    </tr>\n",
       "    <tr>\n",
       "      <th>5</th>\n",
       "      <td>Добавить страницу отзывов клиентов о магазине,...</td>\n",
       "      <td>3</td>\n",
       "      <td>2</td>\n",
       "      <td>2</td>\n",
       "      <td>3</td>\n",
       "    </tr>\n",
       "    <tr>\n",
       "      <th>6</th>\n",
       "      <td>Показать на главной странице баннеры с актуаль...</td>\n",
       "      <td>5</td>\n",
       "      <td>3</td>\n",
       "      <td>8</td>\n",
       "      <td>3</td>\n",
       "    </tr>\n",
       "    <tr>\n",
       "      <th>7</th>\n",
       "      <td>Добавить форму подписки на все основные страни...</td>\n",
       "      <td>10</td>\n",
       "      <td>7</td>\n",
       "      <td>8</td>\n",
       "      <td>5</td>\n",
       "    </tr>\n",
       "    <tr>\n",
       "      <th>8</th>\n",
       "      <td>Запустить акцию, дающую скидку на товар в день...</td>\n",
       "      <td>1</td>\n",
       "      <td>9</td>\n",
       "      <td>9</td>\n",
       "      <td>5</td>\n",
       "    </tr>\n",
       "  </tbody>\n",
       "</table>\n",
       "</div>"
      ],
      "text/plain": [
       "                                          hypothesis  reach  impact  \\\n",
       "0  Добавить два новых канала привлечения трафика,...      3      10   \n",
       "1  Запустить собственную службу доставки, что сок...      2       5   \n",
       "2  Добавить блоки рекомендаций товаров на сайт ин...      8       3   \n",
       "3  Изменить структура категорий, что увеличит кон...      8       3   \n",
       "4  Изменить цвет фона главной страницы, чтобы уве...      3       1   \n",
       "5  Добавить страницу отзывов клиентов о магазине,...      3       2   \n",
       "6  Показать на главной странице баннеры с актуаль...      5       3   \n",
       "7  Добавить форму подписки на все основные страни...     10       7   \n",
       "8  Запустить акцию, дающую скидку на товар в день...      1       9   \n",
       "\n",
       "   confidence  efforts  \n",
       "0           8        6  \n",
       "1           4       10  \n",
       "2           7        3  \n",
       "3           3        8  \n",
       "4           1        1  \n",
       "5           2        3  \n",
       "6           8        3  \n",
       "7           8        5  \n",
       "8           9        5  "
      ]
     },
     "execution_count": 22,
     "metadata": {},
     "output_type": "execute_result"
    }
   ],
   "source": [
    "hypothesis.head(9)"
   ]
  },
  {
   "cell_type": "code",
   "execution_count": 23,
   "metadata": {},
   "outputs": [],
   "source": [
    "hypothesis['ICE'] = (hypothesis['impact']*hypothesis['confidence'])/hypothesis['efforts']"
   ]
  },
  {
   "cell_type": "code",
   "execution_count": 24,
   "metadata": {},
   "outputs": [
    {
     "data": {
      "text/html": [
       "<div>\n",
       "<style scoped>\n",
       "    .dataframe tbody tr th:only-of-type {\n",
       "        vertical-align: middle;\n",
       "    }\n",
       "\n",
       "    .dataframe tbody tr th {\n",
       "        vertical-align: top;\n",
       "    }\n",
       "\n",
       "    .dataframe thead th {\n",
       "        text-align: right;\n",
       "    }\n",
       "</style>\n",
       "<table border=\"1\" class=\"dataframe\">\n",
       "  <thead>\n",
       "    <tr style=\"text-align: right;\">\n",
       "      <th></th>\n",
       "      <th>hypothesis</th>\n",
       "      <th>ICE</th>\n",
       "    </tr>\n",
       "  </thead>\n",
       "  <tbody>\n",
       "    <tr>\n",
       "      <th>8</th>\n",
       "      <td>Запустить акцию, дающую скидку на товар в день...</td>\n",
       "      <td>16.200000</td>\n",
       "    </tr>\n",
       "    <tr>\n",
       "      <th>0</th>\n",
       "      <td>Добавить два новых канала привлечения трафика,...</td>\n",
       "      <td>13.333333</td>\n",
       "    </tr>\n",
       "    <tr>\n",
       "      <th>7</th>\n",
       "      <td>Добавить форму подписки на все основные страни...</td>\n",
       "      <td>11.200000</td>\n",
       "    </tr>\n",
       "    <tr>\n",
       "      <th>6</th>\n",
       "      <td>Показать на главной странице баннеры с актуаль...</td>\n",
       "      <td>8.000000</td>\n",
       "    </tr>\n",
       "    <tr>\n",
       "      <th>2</th>\n",
       "      <td>Добавить блоки рекомендаций товаров на сайт ин...</td>\n",
       "      <td>7.000000</td>\n",
       "    </tr>\n",
       "    <tr>\n",
       "      <th>1</th>\n",
       "      <td>Запустить собственную службу доставки, что сок...</td>\n",
       "      <td>2.000000</td>\n",
       "    </tr>\n",
       "    <tr>\n",
       "      <th>5</th>\n",
       "      <td>Добавить страницу отзывов клиентов о магазине,...</td>\n",
       "      <td>1.333333</td>\n",
       "    </tr>\n",
       "    <tr>\n",
       "      <th>3</th>\n",
       "      <td>Изменить структура категорий, что увеличит кон...</td>\n",
       "      <td>1.125000</td>\n",
       "    </tr>\n",
       "    <tr>\n",
       "      <th>4</th>\n",
       "      <td>Изменить цвет фона главной страницы, чтобы уве...</td>\n",
       "      <td>1.000000</td>\n",
       "    </tr>\n",
       "  </tbody>\n",
       "</table>\n",
       "</div>"
      ],
      "text/plain": [
       "                                          hypothesis        ICE\n",
       "8  Запустить акцию, дающую скидку на товар в день...  16.200000\n",
       "0  Добавить два новых канала привлечения трафика,...  13.333333\n",
       "7  Добавить форму подписки на все основные страни...  11.200000\n",
       "6  Показать на главной странице баннеры с актуаль...   8.000000\n",
       "2  Добавить блоки рекомендаций товаров на сайт ин...   7.000000\n",
       "1  Запустить собственную службу доставки, что сок...   2.000000\n",
       "5  Добавить страницу отзывов клиентов о магазине,...   1.333333\n",
       "3  Изменить структура категорий, что увеличит кон...   1.125000\n",
       "4  Изменить цвет фона главной страницы, чтобы уве...   1.000000"
      ]
     },
     "execution_count": 24,
     "metadata": {},
     "output_type": "execute_result"
    }
   ],
   "source": [
    "(hypothesis[['hypothesis', 'ICE']].sort_values(by='ICE', ascending=False))\n"
   ]
  },
  {
   "cell_type": "markdown",
   "metadata": {},
   "source": [
    "### Примените фреймворк RICE для приоритизации гипотез. Отсортируйте их по убыванию приоритета."
   ]
  },
  {
   "cell_type": "code",
   "execution_count": 25,
   "metadata": {},
   "outputs": [
    {
     "data": {
      "text/html": [
       "<div>\n",
       "<style scoped>\n",
       "    .dataframe tbody tr th:only-of-type {\n",
       "        vertical-align: middle;\n",
       "    }\n",
       "\n",
       "    .dataframe tbody tr th {\n",
       "        vertical-align: top;\n",
       "    }\n",
       "\n",
       "    .dataframe thead th {\n",
       "        text-align: right;\n",
       "    }\n",
       "</style>\n",
       "<table border=\"1\" class=\"dataframe\">\n",
       "  <thead>\n",
       "    <tr style=\"text-align: right;\">\n",
       "      <th></th>\n",
       "      <th>hypothesis</th>\n",
       "      <th>RICE</th>\n",
       "    </tr>\n",
       "  </thead>\n",
       "  <tbody>\n",
       "    <tr>\n",
       "      <th>7</th>\n",
       "      <td>Добавить форму подписки на все основные страни...</td>\n",
       "      <td>112.0</td>\n",
       "    </tr>\n",
       "    <tr>\n",
       "      <th>2</th>\n",
       "      <td>Добавить блоки рекомендаций товаров на сайт ин...</td>\n",
       "      <td>56.0</td>\n",
       "    </tr>\n",
       "    <tr>\n",
       "      <th>0</th>\n",
       "      <td>Добавить два новых канала привлечения трафика,...</td>\n",
       "      <td>40.0</td>\n",
       "    </tr>\n",
       "    <tr>\n",
       "      <th>6</th>\n",
       "      <td>Показать на главной странице баннеры с актуаль...</td>\n",
       "      <td>40.0</td>\n",
       "    </tr>\n",
       "    <tr>\n",
       "      <th>8</th>\n",
       "      <td>Запустить акцию, дающую скидку на товар в день...</td>\n",
       "      <td>16.2</td>\n",
       "    </tr>\n",
       "    <tr>\n",
       "      <th>3</th>\n",
       "      <td>Изменить структура категорий, что увеличит кон...</td>\n",
       "      <td>9.0</td>\n",
       "    </tr>\n",
       "    <tr>\n",
       "      <th>1</th>\n",
       "      <td>Запустить собственную службу доставки, что сок...</td>\n",
       "      <td>4.0</td>\n",
       "    </tr>\n",
       "    <tr>\n",
       "      <th>5</th>\n",
       "      <td>Добавить страницу отзывов клиентов о магазине,...</td>\n",
       "      <td>4.0</td>\n",
       "    </tr>\n",
       "    <tr>\n",
       "      <th>4</th>\n",
       "      <td>Изменить цвет фона главной страницы, чтобы уве...</td>\n",
       "      <td>3.0</td>\n",
       "    </tr>\n",
       "  </tbody>\n",
       "</table>\n",
       "</div>"
      ],
      "text/plain": [
       "                                          hypothesis   RICE\n",
       "7  Добавить форму подписки на все основные страни...  112.0\n",
       "2  Добавить блоки рекомендаций товаров на сайт ин...   56.0\n",
       "0  Добавить два новых канала привлечения трафика,...   40.0\n",
       "6  Показать на главной странице баннеры с актуаль...   40.0\n",
       "8  Запустить акцию, дающую скидку на товар в день...   16.2\n",
       "3  Изменить структура категорий, что увеличит кон...    9.0\n",
       "1  Запустить собственную службу доставки, что сок...    4.0\n",
       "5  Добавить страницу отзывов клиентов о магазине,...    4.0\n",
       "4  Изменить цвет фона главной страницы, чтобы уве...    3.0"
      ]
     },
     "execution_count": 25,
     "metadata": {},
     "output_type": "execute_result"
    }
   ],
   "source": [
    "hypothesis['RICE'] = (hypothesis['reach']* hypothesis['impact']*hypothesis['confidence'])/hypothesis['efforts']\n",
    "\n",
    "hypothesis[['hypothesis','RICE']].sort_values(by='RICE', ascending=False)"
   ]
  },
  {
   "cell_type": "markdown",
   "metadata": {},
   "source": [
    "### Укажите, как изменилась приоритизация гипотез при применении RICE вместо ICE. Объясните, почему так произошло."
   ]
  },
  {
   "cell_type": "markdown",
   "metadata": {},
   "source": [
    "RICE является модификацией метода ICE, они схожи по компонентам, но результат применения будет разный. При этом, данный фреймворк состоит из четырёх компонентов, и приоритизация гипотез будет разная за счет компонента Reach, указывающий на предмет - скольких пользователей затронет изменение, которое вы хотите внести.Таким образом, появление в числителе показателя охвата пользователей сильно меняет картину, то есть приоритизацию."
   ]
  },
  {
   "cell_type": "markdown",
   "metadata": {},
   "source": [
    "## Часть 2. Анализ A/B-теста"
   ]
  },
  {
   "cell_type": "markdown",
   "metadata": {},
   "source": [
    "### Постройте график кумулятивной выручки по группам. Сделайте выводы и предположения."
   ]
  },
  {
   "cell_type": "code",
   "execution_count": 26,
   "metadata": {},
   "outputs": [
    {
     "data": {
      "text/html": [
       "<div>\n",
       "<style scoped>\n",
       "    .dataframe tbody tr th:only-of-type {\n",
       "        vertical-align: middle;\n",
       "    }\n",
       "\n",
       "    .dataframe tbody tr th {\n",
       "        vertical-align: top;\n",
       "    }\n",
       "\n",
       "    .dataframe thead th {\n",
       "        text-align: right;\n",
       "    }\n",
       "</style>\n",
       "<table border=\"1\" class=\"dataframe\">\n",
       "  <thead>\n",
       "    <tr style=\"text-align: right;\">\n",
       "      <th></th>\n",
       "      <th>transactionid</th>\n",
       "      <th>visitorid</th>\n",
       "      <th>date</th>\n",
       "      <th>revenue</th>\n",
       "      <th>group</th>\n",
       "    </tr>\n",
       "  </thead>\n",
       "  <tbody>\n",
       "    <tr>\n",
       "      <th>0</th>\n",
       "      <td>3667963787</td>\n",
       "      <td>3312258926</td>\n",
       "      <td>2019-08-15</td>\n",
       "      <td>1650</td>\n",
       "      <td>B</td>\n",
       "    </tr>\n",
       "    <tr>\n",
       "      <th>1</th>\n",
       "      <td>2804400009</td>\n",
       "      <td>3642806036</td>\n",
       "      <td>2019-08-15</td>\n",
       "      <td>730</td>\n",
       "      <td>B</td>\n",
       "    </tr>\n",
       "    <tr>\n",
       "      <th>2</th>\n",
       "      <td>2961555356</td>\n",
       "      <td>4069496402</td>\n",
       "      <td>2019-08-15</td>\n",
       "      <td>400</td>\n",
       "      <td>A</td>\n",
       "    </tr>\n",
       "    <tr>\n",
       "      <th>3</th>\n",
       "      <td>3797467345</td>\n",
       "      <td>1196621759</td>\n",
       "      <td>2019-08-15</td>\n",
       "      <td>9759</td>\n",
       "      <td>B</td>\n",
       "    </tr>\n",
       "    <tr>\n",
       "      <th>4</th>\n",
       "      <td>2282983706</td>\n",
       "      <td>2322279887</td>\n",
       "      <td>2019-08-15</td>\n",
       "      <td>2308</td>\n",
       "      <td>B</td>\n",
       "    </tr>\n",
       "  </tbody>\n",
       "</table>\n",
       "</div>"
      ],
      "text/plain": [
       "  transactionid   visitorid        date  revenue group\n",
       "0    3667963787  3312258926  2019-08-15     1650     B\n",
       "1    2804400009  3642806036  2019-08-15      730     B\n",
       "2    2961555356  4069496402  2019-08-15      400     A\n",
       "3    3797467345  1196621759  2019-08-15     9759     B\n",
       "4    2282983706  2322279887  2019-08-15     2308     B"
      ]
     },
     "execution_count": 26,
     "metadata": {},
     "output_type": "execute_result"
    }
   ],
   "source": [
    "orders.head(5)"
   ]
  },
  {
   "cell_type": "code",
   "execution_count": 27,
   "metadata": {},
   "outputs": [
    {
     "data": {
      "text/html": [
       "<div>\n",
       "<style scoped>\n",
       "    .dataframe tbody tr th:only-of-type {\n",
       "        vertical-align: middle;\n",
       "    }\n",
       "\n",
       "    .dataframe tbody tr th {\n",
       "        vertical-align: top;\n",
       "    }\n",
       "\n",
       "    .dataframe thead th {\n",
       "        text-align: right;\n",
       "    }\n",
       "</style>\n",
       "<table border=\"1\" class=\"dataframe\">\n",
       "  <thead>\n",
       "    <tr style=\"text-align: right;\">\n",
       "      <th></th>\n",
       "      <th>date</th>\n",
       "      <th>group</th>\n",
       "      <th>visitors</th>\n",
       "    </tr>\n",
       "  </thead>\n",
       "  <tbody>\n",
       "    <tr>\n",
       "      <th>0</th>\n",
       "      <td>2019-08-01</td>\n",
       "      <td>A</td>\n",
       "      <td>719</td>\n",
       "    </tr>\n",
       "    <tr>\n",
       "      <th>1</th>\n",
       "      <td>2019-08-02</td>\n",
       "      <td>A</td>\n",
       "      <td>619</td>\n",
       "    </tr>\n",
       "    <tr>\n",
       "      <th>2</th>\n",
       "      <td>2019-08-03</td>\n",
       "      <td>A</td>\n",
       "      <td>507</td>\n",
       "    </tr>\n",
       "    <tr>\n",
       "      <th>3</th>\n",
       "      <td>2019-08-04</td>\n",
       "      <td>A</td>\n",
       "      <td>717</td>\n",
       "    </tr>\n",
       "    <tr>\n",
       "      <th>4</th>\n",
       "      <td>2019-08-05</td>\n",
       "      <td>A</td>\n",
       "      <td>756</td>\n",
       "    </tr>\n",
       "  </tbody>\n",
       "</table>\n",
       "</div>"
      ],
      "text/plain": [
       "         date group  visitors\n",
       "0  2019-08-01     A       719\n",
       "1  2019-08-02     A       619\n",
       "2  2019-08-03     A       507\n",
       "3  2019-08-04     A       717\n",
       "4  2019-08-05     A       756"
      ]
     },
     "execution_count": 27,
     "metadata": {},
     "output_type": "execute_result"
    }
   ],
   "source": [
    "visitors.head(5)"
   ]
  },
  {
   "cell_type": "code",
   "execution_count": 28,
   "metadata": {},
   "outputs": [],
   "source": [
    "# Объявим переменную ordersAggregated\n",
    "ordersAggregated = datesGroups.apply(\n",
    "    lambda x: orders[\n",
    "        np.logical_and(\n",
    "            orders['date'] <= x['date'], orders['group'] == x['group'])\n",
    "    ].agg({\n",
    "            'date': 'max',\n",
    "            'group': 'max',\n",
    "            'transactionid': 'nunique',\n",
    "            'visitorid': 'nunique',\n",
    "            'revenue': 'sum',}),\n",
    "    axis=1,).sort_values(by=['date', 'group'])"
   ]
  },
  {
   "cell_type": "code",
   "execution_count": 29,
   "metadata": {},
   "outputs": [],
   "source": [
    "# Объявим переменную visitorsAggregated\n",
    "\n",
    "visitorsAggregated = datesGroups.apply(\n",
    "lambda x: visitors[np.logical_and(visitors['date'] <= x['date'], visitors['group'] == x['group'])].agg({\n",
    "'date' : 'max',\n",
    "'group' : 'max',\n",
    "'visitors' : 'sum'}), axis=1).sort_values(by=['date','group'])"
   ]
  },
  {
   "cell_type": "code",
   "execution_count": 30,
   "metadata": {},
   "outputs": [],
   "source": [
    "# Определим переменную cumulativeData, объединив ordersAggregated и visitorsAggregated по колонкам 'date', 'group' методом merge()\n",
    "\n",
    "cumulativeData = ordersAggregated.merge(visitorsAggregated, left_on=['date', 'group'], right_on=['date', 'group'])\n",
    "cumulativeData.columns = ['date', 'group', 'orders', 'buyers', 'revenue', 'visitors']"
   ]
  },
  {
   "cell_type": "code",
   "execution_count": 31,
   "metadata": {},
   "outputs": [
    {
     "data": {
      "image/png": "[encoded data removed]",
      "text/plain": [
       "<Figure size 720x504 with 1 Axes>"
      ]
     },
     "metadata": {
      "needs_background": "light"
     },
     "output_type": "display_data"
    }
   ],
   "source": [
    "# датафрейм с кумулятивным количеством заказов и кумулятивной выручкой по дням в группе А\n",
    "cumulativeRevenueA = cumulativeData[cumulativeData['group']=='A'][['date','revenue', 'orders']]\n",
    "\n",
    "# датафрейм с кумулятивным количеством заказов и кумулятивной выручкой по дням в группе B\n",
    "cumulativeRevenueB = cumulativeData[cumulativeData['group']=='B'][['date','revenue', 'orders']]\n",
    "\n",
    "fig = plt.figure(figsize=[10,7])\n",
    "fig.autofmt_xdate()\n",
    "# Строим график выручки группы А\n",
    "plt.plot(cumulativeRevenueA['date'], cumulativeRevenueA['revenue'], label='A')\n",
    "# Строим график выручки группы B\n",
    "plt.plot(cumulativeRevenueB['date'], cumulativeRevenueB['revenue'], label='B')\n",
    "\n",
    "\n",
    "plt.title('График кумулятивной выручки по группам')\n",
    "plt.xlabel('Дата заказа')\n",
    "plt.xlabel('Выручка')\n",
    "\n",
    "plt.xticks(rotation = 45)\n",
    "\n",
    "\n",
    "plt.legend() \n",
    "plt.show() "
   ]
  },
  {
   "cell_type": "markdown",
   "metadata": {},
   "source": [
    "Сегмент В вырваля вперед и продолжал лидировать весь остаток теста. Из этого следует, что аномально большие заказы все-таки влият на результаты."
   ]
  },
  {
   "cell_type": "markdown",
   "metadata": {},
   "source": [
    "### Постройте график кумулятивного среднего чека по группам. Сделайте выводы и предположения."
   ]
  },
  {
   "cell_type": "code",
   "execution_count": 32,
   "metadata": {},
   "outputs": [
    {
     "data": {
      "text/html": [
       "<div>\n",
       "<style scoped>\n",
       "    .dataframe tbody tr th:only-of-type {\n",
       "        vertical-align: middle;\n",
       "    }\n",
       "\n",
       "    .dataframe tbody tr th {\n",
       "        vertical-align: top;\n",
       "    }\n",
       "\n",
       "    .dataframe thead th {\n",
       "        text-align: right;\n",
       "    }\n",
       "</style>\n",
       "<table border=\"1\" class=\"dataframe\">\n",
       "  <thead>\n",
       "    <tr style=\"text-align: right;\">\n",
       "      <th></th>\n",
       "      <th>date</th>\n",
       "      <th>revenue</th>\n",
       "      <th>orders</th>\n",
       "    </tr>\n",
       "  </thead>\n",
       "  <tbody>\n",
       "    <tr>\n",
       "      <th>0</th>\n",
       "      <td>2019-08-01</td>\n",
       "      <td>148579</td>\n",
       "      <td>24</td>\n",
       "    </tr>\n",
       "    <tr>\n",
       "      <th>2</th>\n",
       "      <td>2019-08-02</td>\n",
       "      <td>242401</td>\n",
       "      <td>44</td>\n",
       "    </tr>\n",
       "    <tr>\n",
       "      <th>4</th>\n",
       "      <td>2019-08-03</td>\n",
       "      <td>354874</td>\n",
       "      <td>68</td>\n",
       "    </tr>\n",
       "    <tr>\n",
       "      <th>6</th>\n",
       "      <td>2019-08-04</td>\n",
       "      <td>425699</td>\n",
       "      <td>84</td>\n",
       "    </tr>\n",
       "    <tr>\n",
       "      <th>8</th>\n",
       "      <td>2019-08-05</td>\n",
       "      <td>549917</td>\n",
       "      <td>109</td>\n",
       "    </tr>\n",
       "  </tbody>\n",
       "</table>\n",
       "</div>"
      ],
      "text/plain": [
       "         date  revenue  orders\n",
       "0  2019-08-01   148579      24\n",
       "2  2019-08-02   242401      44\n",
       "4  2019-08-03   354874      68\n",
       "6  2019-08-04   425699      84\n",
       "8  2019-08-05   549917     109"
      ]
     },
     "execution_count": 32,
     "metadata": {},
     "output_type": "execute_result"
    }
   ],
   "source": [
    "cumulativeRevenueA.head(5)"
   ]
  },
  {
   "cell_type": "code",
   "execution_count": 33,
   "metadata": {},
   "outputs": [
    {
     "data": {
      "image/png": "[encoded data removed]",
      "text/plain": [
       "<Figure size 720x504 with 1 Axes>"
      ]
     },
     "metadata": {
      "needs_background": "light"
     },
     "output_type": "display_data"
    }
   ],
   "source": [
    "fig = plt.figure(figsize=[10,7])\n",
    "fig.autofmt_xdate()\n",
    "\n",
    "plt.plot(cumulativeRevenueA['date'], cumulativeRevenueA['revenue']/cumulativeRevenueA['orders'], label='A')\n",
    "plt.plot(cumulativeRevenueB['date'], cumulativeRevenueB['revenue']/cumulativeRevenueB['orders'], label='B')\n",
    "plt.legend() \n",
    "\n",
    "plt.title('График кумулятивного среднего чека по группам')\n",
    "plt.xlabel('Дата заказа')\n",
    "plt.xlabel('Средний чек')\n",
    "\n",
    "plt.xticks(rotation = 45)\n",
    "\n",
    "\n",
    "plt.legend() \n",
    "plt.show() "
   ]
  },
  {
   "cell_type": "markdown",
   "metadata": {},
   "source": [
    "Кумулятивное значение среднего чека колебается, принимать решение по метрике пока мы не можем. Требуется анализ выбросов."
   ]
  },
  {
   "cell_type": "markdown",
   "metadata": {},
   "source": [
    "### Постройте график относительного изменения кумулятивного среднего чека группы B к группе A. Сделайте выводы и предположения."
   ]
  },
  {
   "cell_type": "code",
   "execution_count": 34,
   "metadata": {},
   "outputs": [
    {
     "name": "stderr",
     "output_type": "stream",
     "text": [
      "No handles with labels found to put in legend.\n"
     ]
    },
    {
     "data": {
      "image/png": "[encoded data removed]",
      "text/plain": [
       "<Figure size 720x504 with 1 Axes>"
      ]
     },
     "metadata": {
      "needs_background": "light"
     },
     "output_type": "display_data"
    }
   ],
   "source": [
    "mergedCumulativeRevenue = cumulativeRevenueA.merge(cumulativeRevenueB, left_on='date', right_on='date', how='left', suffixes=['A', 'B'])\n",
    "\n",
    "fig = plt.figure(figsize=[10,7])\n",
    "fig.autofmt_xdate()\n",
    "# cтроим отношение средних чеков\n",
    "plt.plot(mergedCumulativeRevenue['date'], (mergedCumulativeRevenue['revenueB']/mergedCumulativeRevenue['ordersB'])/(mergedCumulativeRevenue['revenueA']/mergedCumulativeRevenue['ordersA'])-1)\n",
    "\n",
    "# добавляем ось X\n",
    "plt.axhline(y=0, color='black', linestyle='--') \n",
    "\n",
    "plt.title('График относительного изменения кумулятивного среднего чека группы B к группе A')\n",
    "plt.xlabel('Ось х')\n",
    "plt.xlabel('Отношение среднего чека')\n",
    "\n",
    "plt.xticks(rotation = 45)\n",
    "\n",
    "\n",
    "plt.legend() \n",
    "plt.show() "
   ]
  },
  {
   "cell_type": "markdown",
   "metadata": {},
   "source": [
    "На графике относительного различия в среднем чеке между группами мы видим, что в несколько дат были совершены очень большие заказы."
   ]
  },
  {
   "cell_type": "markdown",
   "metadata": {},
   "source": [
    "### Постройте график кумулятивного среднего количества заказов на посетителя по группам. Сделайте выводы и предположения."
   ]
  },
  {
   "cell_type": "code",
   "execution_count": 35,
   "metadata": {},
   "outputs": [
    {
     "data": {
      "image/png": "[encoded data removed]",
      "text/plain": [
       "<Figure size 720x504 with 1 Axes>"
      ]
     },
     "metadata": {
      "needs_background": "light"
     },
     "output_type": "display_data"
    }
   ],
   "source": [
    "# считаем кумулятивную конверсию\n",
    "cumulativeData['conversion'] = cumulativeData['orders']/cumulativeData['visitors']\n",
    "\n",
    "# отделяем данные по группе A\n",
    "cumulativeDataA = cumulativeData[cumulativeData['group']=='A']\n",
    "\n",
    "# отделяем данные по группе B\n",
    "cumulativeDataB = cumulativeData[cumulativeData['group']=='B']\n",
    "\n",
    "# строим графики\n",
    "fig = plt.figure(figsize=[10,7])\n",
    "fig.autofmt_xdate()\n",
    "\n",
    "plt.plot(cumulativeDataA['date'], cumulativeDataA['conversion'], label='A')\n",
    "plt.plot(cumulativeDataB['date'], cumulativeDataB['conversion'], label='B')\n",
    "\n",
    "plt.title('График кумулятивного среднего количества заказов на посетителя по группам')\n",
    "plt.xlabel('Cреднее количество заказов на посетителя по группам')\n",
    "plt.xlabel('Дата')\n",
    "\n",
    "plt.xticks(rotation = 45)\n",
    "\n",
    "\n",
    "plt.legend() \n",
    "plt.show() "
   ]
  },
  {
   "cell_type": "markdown",
   "metadata": {},
   "source": [
    "\n",
    "В начале теста группа А имела большую конверсию, но динамично у группы В значительно лучше конверсия."
   ]
  },
  {
   "cell_type": "markdown",
   "metadata": {},
   "source": [
    "### Постройте график относительного изменения кумулятивного среднего количества заказов на посетителя группы B к группе A. Сделайте выводы и предположения."
   ]
  },
  {
   "cell_type": "code",
   "execution_count": 36,
   "metadata": {},
   "outputs": [
    {
     "data": {
      "image/png": "[encoded data removed]",
      "text/plain": [
       "<Figure size 720x504 with 1 Axes>"
      ]
     },
     "metadata": {
      "needs_background": "light"
     },
     "output_type": "display_data"
    }
   ],
   "source": [
    "mergedCumulativeConversions = cumulativeDataA[['date','conversion']].merge(cumulativeDataB[['date','conversion']], left_on='date', right_on='date', how='left', suffixes=['A', 'B'])\n",
    "\n",
    "fig = plt.figure(figsize=[10,7])\n",
    "fig.autofmt_xdate()\n",
    "\n",
    "plt.plot(mergedCumulativeConversions['date'], mergedCumulativeConversions['conversionB']/mergedCumulativeConversions['conversionA']-1, label=\"Относительный прирост конверсии группы B относительно группы A\")\n",
    "plt.legend()\n",
    "\n",
    "plt.axhline(y=0, color='black', linestyle='--')\n",
    "plt.axhline(y=0.2, color='grey', linestyle='--')\n",
    "plt.title('График относительного изменения кумулятивного среднего количества заказов на посетителя группы B к группе A')\n",
    "plt.xlabel('Cреднее количество заказов на посетителя группы B к группе A')\n",
    "plt.xlabel('Дата')\n",
    "\n",
    "plt.xticks(rotation = 45)\n",
    "\n",
    "\n",
    "plt.legend() \n",
    "plt.show() "
   ]
  },
  {
   "cell_type": "markdown",
   "metadata": {},
   "source": [
    "На графике относительного различия конверсии между группами мы видим, что группа В лидирует по конверсии примерно с середины теста около 20% прироста относительно группы А."
   ]
  },
  {
   "cell_type": "markdown",
   "metadata": {},
   "source": [
    "### Постройте точечный график количества заказов по пользователям. Сделайте выводы и предположения."
   ]
  },
  {
   "cell_type": "code",
   "execution_count": 37,
   "metadata": {},
   "outputs": [
    {
     "data": {
      "text/plain": [
       "Text(0.5, 1.0, 'Точечный график количества заказов по пользователям')"
      ]
     },
     "execution_count": 37,
     "metadata": {},
     "output_type": "execute_result"
    },
    {
     "data": {
      "image/png": "[encoded data removed]",
      "text/plain": [
       "<Figure size 432x288 with 1 Axes>"
      ]
     },
     "metadata": {
      "needs_background": "light"
     },
     "output_type": "display_data"
    }
   ],
   "source": [
    "ordersByUsers = (\n",
    "    orders.groupby('visitorid', as_index=False)\n",
    "    .agg({'transactionid': 'nunique'}))\n",
    "ordersByUsers.columns = ['visitorid', 'orders']\n",
    "\n",
    "ordersByUsers.sort_values(by='orders', ascending=False)\n",
    "\n",
    "# серия из чисел от 0 до количества наблюдений в ordersByUsers\n",
    "x_values = pd.Series(range(0, len(ordersByUsers)))\n",
    "\n",
    "plt.scatter(x_values, ordersByUsers['orders']) \n",
    "plt.title('Точечный график количества заказов по пользователям')"
   ]
  },
  {
   "cell_type": "markdown",
   "metadata": {},
   "source": [
    "Пользователей, заказавших более 2 раз мало. Они могут быть аномальными."
   ]
  },
  {
   "cell_type": "markdown",
   "metadata": {},
   "source": [
    "### Посчитайте 95-й и 99-й перцентили количества заказов на пользователя. Выберите границу для определения аномальных пользователей."
   ]
  },
  {
   "cell_type": "code",
   "execution_count": 38,
   "metadata": {},
   "outputs": [
    {
     "data": {
      "text/plain": [
       "array([1., 2., 4.])"
      ]
     },
     "execution_count": 38,
     "metadata": {},
     "output_type": "execute_result"
    }
   ],
   "source": [
    "ordersByUsers = (\n",
    "    orders.groupby('visitorid', as_index=False)\n",
    "    .agg({'transactionid': 'nunique'}))\n",
    "ordersByUsers.columns = ['visitorid', 'orders']\n",
    "ordersByUsers.sort_values(by='orders', ascending=False).head(10)\n",
    "np.percentile(ordersByUsers['orders'], [90,95, 99])"
   ]
  },
  {
   "cell_type": "markdown",
   "metadata": {},
   "source": [
    "Не более 5% пользователей совершали более 2-х заказов и не более 1% процента пользователей - более 4-х заказов. Примем за аномальных пользователей тех, кто совершил 4 заказа и более. Так, мы уберем 1% пользователей с наибольшим числом заказов."
   ]
  },
  {
   "cell_type": "markdown",
   "metadata": {},
   "source": [
    "### Постройте точечный график стоимостей заказов. Сделайте выводы и предположения."
   ]
  },
  {
   "cell_type": "code",
   "execution_count": 39,
   "metadata": {},
   "outputs": [
    {
     "data": {
      "text/plain": [
       "Text(0.5, 1.0, 'Точечный график стоимостей заказов')"
      ]
     },
     "execution_count": 39,
     "metadata": {},
     "output_type": "execute_result"
    },
    {
     "data": {
      "image/png": "[encoded data removed]",
      "text/plain": [
       "<Figure size 432x288 with 1 Axes>"
      ]
     },
     "metadata": {
      "needs_background": "light"
     },
     "output_type": "display_data"
    }
   ],
   "source": [
    "ordersByUsers = (\n",
    "    orders.groupby('revenue', as_index=False)\n",
    "    .agg({'transactionid': 'nunique'}))\n",
    "ordersByUsers.columns = ['revenue', 'orders']\n",
    "\n",
    "ordersByUsers.sort_values(by='orders', ascending=False)\n",
    "\n",
    "x_values = pd.Series(range(0, len(ordersByUsers)))\n",
    "\n",
    "plt.scatter(x_values, ordersByUsers['orders']) \n",
    "plt.title('Точечный график стоимостей заказов')"
   ]
  },
  {
   "cell_type": "markdown",
   "metadata": {},
   "source": [
    "Очень дорогих заказов мало, чем дороже чем меньше. Начиная с 2 тысяч заказов становится значительно меньше."
   ]
  },
  {
   "cell_type": "markdown",
   "metadata": {},
   "source": [
    "### Посчитайте 95-й и 99-й перцентили стоимости заказов. Выберите границу для определения аномальных заказов.\n"
   ]
  },
  {
   "cell_type": "code",
   "execution_count": 40,
   "metadata": {},
   "outputs": [
    {
     "data": {
      "text/plain": [
       "array([18168. , 28000. , 58233.2])"
      ]
     },
     "execution_count": 40,
     "metadata": {},
     "output_type": "execute_result"
    }
   ],
   "source": [
    "np.percentile(orders['revenue'], [90, 95, 99])"
   ]
  },
  {
   "cell_type": "markdown",
   "metadata": {},
   "source": [
    "Не более чем у 5% заказов стоимость выше чем 28 000 рублей и не более чем у 1% заказов - 58 233 рублей. Примем за аномальных пользователей тех, кто совершил заказ на сумму свыше 29 000 рублей. Так мы уберём от 1% до 5% заказов с наибольшей стоимостью."
   ]
  },
  {
   "cell_type": "markdown",
   "metadata": {},
   "source": [
    "### Посчитайте статистическую значимость различий в среднем количестве заказов на посетителя между группами по «сырым» данным. Сделайте выводы и предположения.\n"
   ]
  },
  {
   "cell_type": "code",
   "execution_count": 41,
   "metadata": {},
   "outputs": [],
   "source": [
    "visitorsADaily = visitors[visitors['group'] == 'A'][['date', 'visitors']]\n",
    "visitorsADaily.columns = ['date', 'visitorsPerDateA']\n",
    " \n",
    "visitorsACummulative = visitorsADaily.apply(\n",
    "    lambda x: visitorsADaily[visitorsADaily['date'] <= x['date']].agg(\n",
    "        {'date': 'max', 'visitorsPerDateA': 'sum'}),\n",
    "    axis=1,)\n",
    "visitorsACummulative.columns = ['date', 'visitorsCummulativeA']\n",
    " \n",
    "visitorsBDaily = visitors[visitors['group'] == 'B'][['date', 'visitors']]\n",
    "visitorsBDaily.columns = ['date', 'visitorsPerDateB']\n",
    " \n",
    "visitorsBCummulative = visitorsBDaily.apply(\n",
    "    lambda x: visitorsBDaily[visitorsBDaily['date'] <= x['date']].agg(\n",
    "        {'date': 'max', 'visitorsPerDateB': 'sum'}),axis=1,)\n",
    "visitorsBCummulative.columns = ['date', 'visitorsCummulativeB']\n",
    " \n",
    "ordersADaily = (\n",
    "    orders[orders['group'] == 'A'][['date', 'transactionid', 'visitorid', 'revenue']]\n",
    "    .groupby('date', as_index=False)\n",
    "    .agg({'transactionid': pd.Series.nunique, 'revenue': 'sum'}))\n",
    "ordersADaily.columns = ['date', 'ordersPerDateA', 'revenuePerDateA']\n",
    " \n",
    "ordersACummulative = ordersADaily.apply(\n",
    "    lambda x: ordersADaily[ordersADaily['date'] <= x['date']].agg(\n",
    "        {'date': 'max', 'ordersPerDateA': 'sum', 'revenuePerDateA': 'sum'}),\n",
    "    axis=1,).sort_values(by=['date'])\n",
    "ordersACummulative.columns = [\n",
    "    'date',\n",
    "    'ordersCummulativeA',\n",
    "    'revenueCummulativeA',]\n",
    " \n",
    "ordersBDaily = (\n",
    "    orders[orders['group'] == 'B'][['date', 'transactionid', 'visitorid', 'revenue']]\n",
    "    .groupby('date', as_index=False)\n",
    "    .agg({'transactionid': pd.Series.nunique, 'revenue': 'sum'}))\n",
    "ordersBDaily.columns = ['date', 'ordersPerDateB', 'revenuePerDateB']\n",
    " \n",
    "ordersBCummulative = ordersBDaily.apply(\n",
    "    lambda x: ordersBDaily[ordersBDaily['date'] <= x['date']].agg(\n",
    "        {'date': 'max', 'ordersPerDateB': 'sum', 'revenuePerDateB': 'sum'}),\n",
    "    axis=1,).sort_values(by=['date'])\n",
    "ordersBCummulative.columns = ['date',\n",
    "    'ordersCummulativeB',\n",
    "    'revenueCummulativeB',]\n",
    " \n",
    "data = (\n",
    "    ordersADaily.merge(\n",
    "        ordersBDaily, left_on='date', right_on='date', how='left')\n",
    "    .merge(ordersACummulative, left_on='date', right_on='date', how='left')\n",
    "    .merge(ordersBCummulative, left_on='date', right_on='date', how='left')\n",
    "    .merge(visitorsADaily, left_on='date', right_on='date', how='left')\n",
    "    .merge(visitorsBDaily, left_on='date', right_on='date', how='left')\n",
    "    .merge(visitorsACummulative, left_on='date', right_on='date', how='left')\n",
    "    .merge(visitorsBCummulative, left_on='date', right_on='date', how='left'))"
   ]
  },
  {
   "cell_type": "markdown",
   "metadata": {},
   "source": [
    "Формулировка гипотез:\n",
    "\n",
    "H_0: Среднее количество заказов на посетителя группы А = средний чек группы В\n",
    "\n",
    "H_а: Среднее количество заказов на посетителя группы А «≠» средний чек группы В"
   ]
  },
  {
   "cell_type": "code",
   "execution_count": 42,
   "metadata": {},
   "outputs": [
    {
     "name": "stdout",
     "output_type": "stream",
     "text": [
      "0.017\n",
      "0.138\n"
     ]
    }
   ],
   "source": [
    "ordersByUsersA = (\n",
    "    orders[orders['group'] == 'A']\n",
    "    .groupby('visitorid', as_index=False)\n",
    "    .agg({'transactionid': pd.Series.nunique}))\n",
    "ordersByUsersA.columns = ['userid', 'orders']\n",
    " \n",
    "ordersByUsersB = (\n",
    "    orders[orders['group'] == 'B']\n",
    "    .groupby('visitorid', as_index=False)\n",
    "    .agg({'transactionid': pd.Series.nunique}))\n",
    "ordersByUsersB.columns = ['userid', 'orders']\n",
    " \n",
    "sampleA = pd.concat([ordersByUsersA['orders'],pd.Series(0, index=np.arange(data['visitorsPerDateA'].sum() - len(ordersByUsersA['orders'])),\n",
    "            name='orders',),],axis=0,)\n",
    " \n",
    "sampleB = pd.concat([ordersByUsersB['orders'],pd.Series(0,index=np.arange(data['visitorsPerDateB'].sum() - len(ordersByUsersB['orders'])),\n",
    "            name='orders',),],axis=0,)\n",
    " \n",
    "print(\"{0:.3f}\".format(stats.mannwhitneyu(sampleA, sampleB)[1]))\n",
    "print(\"{0:.3f}\".format(sampleB.mean() / sampleA.mean() - 1))"
   ]
  },
  {
   "cell_type": "markdown",
   "metadata": {},
   "source": [
    "P-value значительно меньше 0,05 потому отвергаем нулевую гипотезу. В среднем количестве заказов между группами есть статистически значимые различия. Относительный прирост среднего группы В к конверсии группы А составляет 13,8%."
   ]
  },
  {
   "cell_type": "markdown",
   "metadata": {},
   "source": [
    "### Посчитайте статистическую значимость различий в среднем чеке заказа между группами по «сырым» данным. Сделайте выводы и предположения.\n"
   ]
  },
  {
   "cell_type": "markdown",
   "metadata": {},
   "source": [
    "Формулировка гипотез:\n",
    "\n",
    "H_0: Средний чек группы А = средний чек группы В\n",
    "    \n",
    "H_а: Средний чек группы А «≠» средний чек группы В\n",
    "    "
   ]
  },
  {
   "cell_type": "code",
   "execution_count": 43,
   "metadata": {},
   "outputs": [
    {
     "name": "stdout",
     "output_type": "stream",
     "text": [
      "0.729\n",
      "0.259\n"
     ]
    }
   ],
   "source": [
    "print('{0:.3f}'.format(stats.mannwhitneyu(orders[orders['group']=='A']['revenue'], orders[orders['group']=='B']['revenue'])[1]))\n",
    "print('{0:.3f}'.format(orders[orders['group']=='B']['revenue'].mean()/orders[orders['group']=='A']['revenue'].mean()-1)) "
   ]
  },
  {
   "cell_type": "markdown",
   "metadata": {},
   "source": [
    "P-value больше 0,05 - статистически значимых отличий в среднем чеке между группами нет. Кроме того, относительное различие среднего чека между группами 2,6%."
   ]
  },
  {
   "cell_type": "markdown",
   "metadata": {},
   "source": [
    "### Посчитайте статистическую значимость различий в среднем количестве заказов на посетителя между группами по «очищенным» данным. Сделайте выводы и предположения."
   ]
  },
  {
   "cell_type": "code",
   "execution_count": 44,
   "metadata": {},
   "outputs": [],
   "source": [
    "ordersByUsersA = (\n",
    "    orders[orders['group'] == 'A']\n",
    "    .groupby('visitorid', as_index=False)\n",
    "    .agg({'transactionid': pd.Series.nunique})\n",
    ")\n",
    "ordersByUsersA.columns = ['userid', 'orders']\n",
    " \n",
    "ordersByUsersB = (\n",
    "    orders[orders['group'] == 'B']\n",
    "    .groupby('visitorid', as_index=False)\n",
    "    .agg({'transactionid': pd.Series.nunique}))\n",
    "ordersByUsersB.columns = ['userid', 'orders']\n",
    "\n",
    "\n",
    "\n",
    "usersWithManyOrders = pd.concat([\n",
    "        ordersByUsersA[ordersByUsersA['orders'] > 4]['userid'],\n",
    "        ordersByUsersB[ordersByUsersB['orders'] > 4]['userid'],],axis=0,)\n",
    "\n",
    "usersWithExpensiveOrders = orders[orders['revenue'] > 28000]['visitorid']\n",
    "\n",
    "\n",
    "abnormalUsers = (\n",
    "    pd.concat([usersWithManyOrders, usersWithExpensiveOrders], axis=0)\n",
    "    .drop_duplicates()\n",
    "    .sort_values())"
   ]
  },
  {
   "cell_type": "code",
   "execution_count": 45,
   "metadata": {},
   "outputs": [],
   "source": [
    "sampleAFiltered = pd.concat([ordersByUsersA[\n",
    "            np.logical_not(ordersByUsersA['userid'].isin(abnormalUsers))\n",
    "        ]['orders'],\n",
    "        pd.Series(\n",
    "            0,\n",
    "            index=np.arange(\n",
    "                data['visitorsPerDateA'].sum() - len(ordersByUsersA['orders'])),\n",
    "            name='orders',),],axis=0,)\n",
    "\n",
    "sampleBFiltered = pd.concat([ordersByUsersB[\n",
    "            np.logical_not(ordersByUsersB['userid'].isin(abnormalUsers))\n",
    "        ]['orders'],\n",
    "        pd.Series(\n",
    "            0,\n",
    "            index=np.arange(\n",
    "                data['visitorsPerDateB'].sum() - len(ordersByUsersB['orders'])),name='orders',),],axis=0,) "
   ]
  },
  {
   "cell_type": "markdown",
   "metadata": {},
   "source": [
    "Формулировка гипотез:\n",
    "\n",
    "H_0: Среднее количество заказов на посетителя группы А = средний чек группы В\n",
    "\n",
    "H_а: Среднее количество заказов на посетителя группы А «≠» средний чек группы В"
   ]
  },
  {
   "cell_type": "code",
   "execution_count": 46,
   "metadata": {},
   "outputs": [
    {
     "name": "stdout",
     "output_type": "stream",
     "text": [
      "0.01846\n",
      "0.145\n"
     ]
    }
   ],
   "source": [
    "print('{0:.5f}'.format(stats.mannwhitneyu(sampleAFiltered, sampleBFiltered)[1]))\n",
    "print('{0:.3f}'.format(sampleBFiltered.mean()/sampleAFiltered.mean()-1))"
   ]
  },
  {
   "cell_type": "markdown",
   "metadata": {},
   "source": [
    "Статистическая значимость достигнута. Группа В лучше группы А."
   ]
  },
  {
   "cell_type": "markdown",
   "metadata": {},
   "source": [
    "### Посчитайте статистическую значимость различий в среднем чеке заказа между группами по «очищенным» данным. Сделайте выводы и предположения.\n"
   ]
  },
  {
   "cell_type": "markdown",
   "metadata": {},
   "source": [
    "Формулировка гипотез:\n",
    "\n",
    "H_0: Средний чек группы А = средний чек группы В\n",
    "    \n",
    "H_а: Средний чек группы А «≠» средний чек группы В\n",
    "    "
   ]
  },
  {
   "cell_type": "code",
   "execution_count": 47,
   "metadata": {},
   "outputs": [
    {
     "name": "stdout",
     "output_type": "stream",
     "text": [
      "0.961\n",
      "-0.014\n"
     ]
    }
   ],
   "source": [
    "print(\n",
    "    '{0:.3f}'.format(\n",
    "        stats.mannwhitneyu(\n",
    "            orders[\n",
    "                np.logical_and(\n",
    "                    orders['group'] == 'A',\n",
    "                    np.logical_not(orders['visitorid'].isin(abnormalUsers)),)\n",
    "            ]['revenue'],orders[\n",
    "                np.logical_and(\n",
    "                    orders['group'] == 'B',\n",
    "                    np.logical_not(orders['visitorid'].isin(abnormalUsers)),)\n",
    "            ]['revenue'],)[1]))\n",
    "\n",
    "print(\n",
    "    \"{0:.3f}\".format(\n",
    "        orders[\n",
    "            np.logical_and(\n",
    "                orders['group'] == 'B',\n",
    "                np.logical_not(orders['visitorid'].isin(abnormalUsers)),)\n",
    "        ]['revenue'].mean()/ orders[\n",
    "            np.logical_and(\n",
    "                orders['group'] == 'A',\n",
    "                np.logical_not(orders['visitorid'].isin(abnormalUsers)),)\n",
    "        ]['revenue'].mean()- 1))"
   ]
  },
  {
   "cell_type": "markdown",
   "metadata": {},
   "source": [
    "P-value увеличился, но и разница между группами  по среднему чеку не сильно изменилась с 2,6% до 1,4%."
   ]
  },
  {
   "cell_type": "markdown",
   "metadata": {},
   "source": [
    "### Примите решение по результатам теста и объясните его. Варианты решений:\n",
    "1. Остановить тест, зафиксировать победу одной из групп.\n",
    "2. Остановить тест, зафиксировать отсутствие различий между группами.\n",
    "3. Продолжить тест."
   ]
  },
  {
   "cell_type": "markdown",
   "metadata": {},
   "source": [
    "\n",
    "1) Есть статистически значимое различие по конверсии между группами как по сырым данным, так и после фильтрации аномалий.\n",
    "2) Нет статистически значимого различия по среднему чеку между группами ни по «сырым», ни по данным после фильтрации аномалий.\n",
    "3) На графике относительного различия конверсии между группами мы видим, что группа В лидирует по конверсии примерно с середины теста около 20% прироста относительно группы А.\n",
    "\n",
    "Исходя из обнаруженных фактов, тест следует остановить и признать его успешным. Вероятность, что при имеющихся данных сегмент B на самом деле лучше сегмента A — имеет место быть. (Вариант 1)\n"
   ]
  },
  {
   "cell_type": "markdown",
   "metadata": {},
   "source": [
    "<div style=\"border:solid Chocolate 2px; padding: 40px\">\n",
    "\n",
    "**Общий вывод по проекту**\n",
    "\n",
    "Мичилина, спасибо за твой проект! Ты приложила много усилий, чтобы довести его до конца, все задачи в рамках проекта тебе удалось успешно решить, это видно невооруженным глазом, отличная работа! У меня есть несколько рекомендаций, над которыми стоит поработать.\n",
    "\n",
    "**Отмечу отдельные положительные моменты проекта🙂**:\n",
    "* На разных шагах проекта ты предлагала очень интересные решения и методы для их реализации. Хорошая работа!\n",
    "* Ты активно работала с визуализацией, хорошо, что ты используешь графики в работе над проектами!\n",
    "* Тест для проверки гипотез выбран верно, интерпретация результатов теста также корректна:)\n",
    "* Проект в целом хорошо структурирован и оформлен, это плюс:)\n",
    "\n",
    "    \n",
    "**На что стоит обратить внимание:🙂**:\n",
    "\n",
    "* Важно дооформить графики\n",
    "* Попробуй найти пользователей, попавших в обе группы и провести другие проверки качества данных.\n",
    "* В случае каждого теста важно добавить формулировки гипотез.\n",
    "* Можно поработать над комментариями в желтых блоках, носящих рекомендательный характер.\n",
    "    \n",
    "**Желаю удачи и жду твой проект на повторное ревью!**😉\n",
    "    \n",
    "![gif](https://media.giphy.com/media/l41Yh1olOKd1Tgbw4/giphy.gif)"
   ]
  },
  {
   "cell_type": "markdown",
   "metadata": {},
   "source": [
    "<div style=\"border:solid Chocolate 2px; padding: 40px\">\n",
    "\n",
    "**Общий вывод по проекту:вторая итерация ревью**\n",
    "\n",
    "Мичилина, спасибо, что прислала проект с доработками! Все основные моменты исправлены и скорректированы, хорошая работа! \n",
    "    \n",
    "Спешу тебе сообщить, что твой проект принят и ты можешь перейти на следующий спринт🐱‍🏍\n",
    "    \n",
    "Желаю тебе крутых и интересных проектов на следующих спринтах🙌😉\n",
    "    \n",
    "С прошедшим международным женским днем!\n",
    "\n",
    "    \n",
    "![gif](https://media.giphy.com/media/yf5t6Zj45o20ZGN2iA/giphy.gif)"
   ]
  },
  {
   "cell_type": "code",
   "execution_count": null,
   "metadata": {},
   "outputs": [],
   "source": []
  }
 ],
 "metadata": {
  "ExecuteTimeLog": [
   {
    "duration": 609,
    "start_time": "2023-03-08T12:33:49.724Z"
   },
   {
    "duration": 72,
    "start_time": "2023-03-08T12:34:57.954Z"
   },
   {
    "duration": 239,
    "start_time": "2023-03-08T12:35:44.661Z"
   },
   {
    "duration": 64,
    "start_time": "2023-03-08T12:35:47.875Z"
   },
   {
    "duration": 5,
    "start_time": "2023-03-08T12:36:00.367Z"
   },
   {
    "duration": 49,
    "start_time": "2023-03-08T12:36:01.223Z"
   },
   {
    "duration": 807,
    "start_time": "2023-03-08T12:38:22.097Z"
   },
   {
    "duration": 58,
    "start_time": "2023-03-08T12:38:37.885Z"
   },
   {
    "duration": 137,
    "start_time": "2023-03-08T12:39:14.021Z"
   },
   {
    "duration": 61,
    "start_time": "2023-03-08T12:39:48.414Z"
   },
   {
    "duration": 23,
    "start_time": "2023-03-08T12:42:48.242Z"
   },
   {
    "duration": 83,
    "start_time": "2023-03-08T12:47:50.147Z"
   },
   {
    "duration": 4,
    "start_time": "2023-03-08T12:48:14.927Z"
   },
   {
    "duration": 22,
    "start_time": "2023-03-08T12:48:24.321Z"
   },
   {
    "duration": 15,
    "start_time": "2023-03-08T12:48:58.606Z"
   },
   {
    "duration": 10,
    "start_time": "2023-03-08T12:49:09.665Z"
   },
   {
    "duration": 8,
    "start_time": "2023-03-08T12:49:49.334Z"
   },
   {
    "duration": 8,
    "start_time": "2023-03-08T12:50:03.805Z"
   },
   {
    "duration": 808,
    "start_time": "2023-03-08T13:07:52.454Z"
   },
   {
    "duration": 26,
    "start_time": "2023-03-08T13:07:53.762Z"
   },
   {
    "duration": 53,
    "start_time": "2023-03-08T13:07:54.805Z"
   },
   {
    "duration": 19,
    "start_time": "2023-03-08T13:07:55.475Z"
   },
   {
    "duration": 33,
    "start_time": "2023-03-08T13:07:56.251Z"
   },
   {
    "duration": 5,
    "start_time": "2023-03-08T13:07:57.782Z"
   },
   {
    "duration": 15,
    "start_time": "2023-03-08T13:07:58.877Z"
   },
   {
    "duration": 9,
    "start_time": "2023-03-08T13:07:59.778Z"
   },
   {
    "duration": 8,
    "start_time": "2023-03-08T13:08:00.346Z"
   },
   {
    "duration": 8,
    "start_time": "2023-03-08T13:08:50.013Z"
   },
   {
    "duration": 7,
    "start_time": "2023-03-08T13:09:17.205Z"
   },
   {
    "duration": 10,
    "start_time": "2023-03-08T13:09:39.002Z"
   },
   {
    "duration": 10,
    "start_time": "2023-03-08T13:12:26.333Z"
   },
   {
    "duration": 8,
    "start_time": "2023-03-08T13:19:47.847Z"
   },
   {
    "duration": 9,
    "start_time": "2023-03-08T13:19:59.918Z"
   },
   {
    "duration": 333,
    "start_time": "2023-03-08T13:36:22.074Z"
   },
   {
    "duration": 943,
    "start_time": "2023-03-08T13:42:20.817Z"
   },
   {
    "duration": 3,
    "start_time": "2023-03-08T13:42:36.193Z"
   },
   {
    "duration": 28,
    "start_time": "2023-03-08T13:42:37.695Z"
   },
   {
    "duration": 38,
    "start_time": "2023-03-08T13:42:38.356Z"
   },
   {
    "duration": 27,
    "start_time": "2023-03-08T13:42:38.842Z"
   },
   {
    "duration": 35,
    "start_time": "2023-03-08T13:42:39.431Z"
   },
   {
    "duration": 4,
    "start_time": "2023-03-08T13:42:40.042Z"
   },
   {
    "duration": 13,
    "start_time": "2023-03-08T13:42:40.924Z"
   },
   {
    "duration": 6,
    "start_time": "2023-03-08T13:42:41.351Z"
   },
   {
    "duration": 9,
    "start_time": "2023-03-08T13:42:41.787Z"
   },
   {
    "duration": 14,
    "start_time": "2023-03-08T13:42:42.751Z"
   },
   {
    "duration": 8,
    "start_time": "2023-03-08T13:42:45.045Z"
   },
   {
    "duration": 7,
    "start_time": "2023-03-08T13:42:45.507Z"
   },
   {
    "duration": 230,
    "start_time": "2023-03-08T13:42:46.302Z"
   },
   {
    "duration": 50,
    "start_time": "2023-03-08T13:50:01.593Z"
   },
   {
    "duration": 407,
    "start_time": "2023-03-08T13:50:39.973Z"
   },
   {
    "duration": 778,
    "start_time": "2023-03-08T14:10:44.192Z"
   },
   {
    "duration": 29,
    "start_time": "2023-03-08T14:10:45.547Z"
   },
   {
    "duration": 36,
    "start_time": "2023-03-08T14:10:46.056Z"
   },
   {
    "duration": 20,
    "start_time": "2023-03-08T14:10:46.525Z"
   },
   {
    "duration": 24,
    "start_time": "2023-03-08T14:10:46.953Z"
   },
   {
    "duration": 4,
    "start_time": "2023-03-08T14:10:47.598Z"
   },
   {
    "duration": 13,
    "start_time": "2023-03-08T14:10:48.546Z"
   },
   {
    "duration": 6,
    "start_time": "2023-03-08T14:10:48.993Z"
   },
   {
    "duration": 9,
    "start_time": "2023-03-08T14:10:49.414Z"
   },
   {
    "duration": 16,
    "start_time": "2023-03-08T14:10:50.135Z"
   },
   {
    "duration": 8,
    "start_time": "2023-03-08T14:10:52.055Z"
   },
   {
    "duration": 528,
    "start_time": "2023-03-08T14:10:52.475Z"
   },
   {
    "duration": 7,
    "start_time": "2023-03-08T14:10:53.069Z"
   },
   {
    "duration": 231,
    "start_time": "2023-03-08T14:10:53.688Z"
   },
   {
    "duration": 7,
    "start_time": "2023-03-08T14:11:42.490Z"
   },
   {
    "duration": 221,
    "start_time": "2023-03-08T14:11:43.083Z"
   },
   {
    "duration": 6,
    "start_time": "2023-03-08T14:13:02.555Z"
   },
   {
    "duration": 37,
    "start_time": "2023-03-08T14:13:17.260Z"
   },
   {
    "duration": 155,
    "start_time": "2023-03-08T14:14:27.756Z"
   },
   {
    "duration": 122,
    "start_time": "2023-03-08T14:16:06.800Z"
   },
   {
    "duration": 8,
    "start_time": "2023-03-08T14:17:02.349Z"
   },
   {
    "duration": 300,
    "start_time": "2023-03-08T14:18:06.918Z"
   },
   {
    "duration": 767,
    "start_time": "2023-03-08T14:38:28.860Z"
   },
   {
    "duration": 60,
    "start_time": "2023-03-08T14:38:29.629Z"
   },
   {
    "duration": 60,
    "start_time": "2023-03-08T14:38:30.224Z"
   },
   {
    "duration": 45,
    "start_time": "2023-03-08T14:38:30.718Z"
   },
   {
    "duration": 28,
    "start_time": "2023-03-08T14:38:31.380Z"
   },
   {
    "duration": 6,
    "start_time": "2023-03-08T14:38:31.919Z"
   },
   {
    "duration": 16,
    "start_time": "2023-03-08T14:38:32.804Z"
   },
   {
    "duration": 6,
    "start_time": "2023-03-08T14:38:33.211Z"
   },
   {
    "duration": 11,
    "start_time": "2023-03-08T14:38:33.615Z"
   },
   {
    "duration": 23,
    "start_time": "2023-03-08T14:38:34.172Z"
   },
   {
    "duration": 12,
    "start_time": "2023-03-08T14:38:35.986Z"
   },
   {
    "duration": 96,
    "start_time": "2023-03-08T14:40:43.531Z"
   },
   {
    "duration": 8,
    "start_time": "2023-03-08T14:41:15.871Z"
   },
   {
    "duration": 12,
    "start_time": "2023-03-08T14:41:25.711Z"
   },
   {
    "duration": 664,
    "start_time": "2023-03-08T14:41:39.799Z"
   },
   {
    "duration": 40,
    "start_time": "2023-03-08T14:41:41.115Z"
   },
   {
    "duration": 49,
    "start_time": "2023-03-08T14:41:45.056Z"
   },
   {
    "duration": 15,
    "start_time": "2023-03-08T14:41:45.755Z"
   },
   {
    "duration": 38,
    "start_time": "2023-03-08T14:41:46.332Z"
   },
   {
    "duration": 4,
    "start_time": "2023-03-08T14:41:46.996Z"
   },
   {
    "duration": 11,
    "start_time": "2023-03-08T14:41:47.971Z"
   },
   {
    "duration": 8,
    "start_time": "2023-03-08T14:41:48.437Z"
   },
   {
    "duration": 10,
    "start_time": "2023-03-08T14:41:48.895Z"
   },
   {
    "duration": 12,
    "start_time": "2023-03-08T14:41:49.771Z"
   },
   {
    "duration": 8,
    "start_time": "2023-03-08T14:41:52.359Z"
   },
   {
    "duration": 10,
    "start_time": "2023-03-08T14:41:52.879Z"
   },
   {
    "duration": 5,
    "start_time": "2023-03-08T14:41:53.408Z"
   },
   {
    "duration": 156,
    "start_time": "2023-03-08T14:41:54.256Z"
   },
   {
    "duration": 127,
    "start_time": "2023-03-08T14:41:55.160Z"
   },
   {
    "duration": 7,
    "start_time": "2023-03-08T14:41:55.868Z"
   },
   {
    "duration": 265,
    "start_time": "2023-03-08T14:41:57.613Z"
   },
   {
    "duration": 7,
    "start_time": "2023-03-08T14:42:02.287Z"
   },
   {
    "duration": 251,
    "start_time": "2023-03-08T14:42:03.375Z"
   },
   {
    "duration": 394,
    "start_time": "2023-03-08T14:48:14.798Z"
   },
   {
    "duration": 322,
    "start_time": "2023-03-08T15:23:16.947Z"
   },
   {
    "duration": 323,
    "start_time": "2023-03-08T15:23:48.212Z"
   },
   {
    "duration": 72,
    "start_time": "2023-03-08T15:29:12.247Z"
   },
   {
    "duration": 641,
    "start_time": "2023-03-08T15:29:27.739Z"
   },
   {
    "duration": 28,
    "start_time": "2023-03-08T15:29:28.820Z"
   },
   {
    "duration": 37,
    "start_time": "2023-03-08T15:29:29.271Z"
   },
   {
    "duration": 16,
    "start_time": "2023-03-08T15:29:29.542Z"
   },
   {
    "duration": 26,
    "start_time": "2023-03-08T15:29:29.750Z"
   },
   {
    "duration": 6,
    "start_time": "2023-03-08T15:29:29.959Z"
   },
   {
    "duration": 11,
    "start_time": "2023-03-08T15:29:30.414Z"
   },
   {
    "duration": 5,
    "start_time": "2023-03-08T15:29:30.606Z"
   },
   {
    "duration": 10,
    "start_time": "2023-03-08T15:29:30.860Z"
   },
   {
    "duration": 15,
    "start_time": "2023-03-08T15:29:31.272Z"
   },
   {
    "duration": 11,
    "start_time": "2023-03-08T15:29:32.503Z"
   },
   {
    "duration": 10,
    "start_time": "2023-03-08T15:29:32.687Z"
   },
   {
    "duration": 7,
    "start_time": "2023-03-08T15:29:32.903Z"
   },
   {
    "duration": 164,
    "start_time": "2023-03-08T15:29:33.108Z"
   },
   {
    "duration": 108,
    "start_time": "2023-03-08T15:29:33.304Z"
   },
   {
    "duration": 9,
    "start_time": "2023-03-08T15:29:34.363Z"
   },
   {
    "duration": 296,
    "start_time": "2023-03-08T15:29:34.776Z"
   },
   {
    "duration": 196,
    "start_time": "2023-03-08T15:30:25.317Z"
   },
   {
    "duration": 7,
    "start_time": "2023-03-08T15:30:27.286Z"
   },
   {
    "duration": 51,
    "start_time": "2023-03-08T15:30:29.062Z"
   },
   {
    "duration": 619,
    "start_time": "2023-03-08T15:30:54.667Z"
   },
   {
    "duration": 29,
    "start_time": "2023-03-08T15:30:55.824Z"
   },
   {
    "duration": 40,
    "start_time": "2023-03-08T15:30:56.421Z"
   },
   {
    "duration": 26,
    "start_time": "2023-03-08T15:30:56.909Z"
   },
   {
    "duration": 34,
    "start_time": "2023-03-08T15:30:57.437Z"
   },
   {
    "duration": 5,
    "start_time": "2023-03-08T15:30:57.941Z"
   },
   {
    "duration": 14,
    "start_time": "2023-03-08T15:30:59.003Z"
   },
   {
    "duration": 7,
    "start_time": "2023-03-08T15:30:59.475Z"
   },
   {
    "duration": 11,
    "start_time": "2023-03-08T15:30:59.925Z"
   },
   {
    "duration": 12,
    "start_time": "2023-03-08T15:31:00.915Z"
   },
   {
    "duration": 8,
    "start_time": "2023-03-08T15:31:03.970Z"
   },
   {
    "duration": 10,
    "start_time": "2023-03-08T15:31:04.763Z"
   },
   {
    "duration": 83,
    "start_time": "2023-03-08T15:31:05.315Z"
   },
   {
    "duration": 7,
    "start_time": "2023-03-08T15:31:06.115Z"
   },
   {
    "duration": 118,
    "start_time": "2023-03-08T15:31:07.209Z"
   },
   {
    "duration": 228,
    "start_time": "2023-03-08T15:31:44.626Z"
   },
   {
    "duration": 238,
    "start_time": "2023-03-08T15:32:14.603Z"
   },
   {
    "duration": 6,
    "start_time": "2023-03-08T15:34:51.124Z"
   },
   {
    "duration": 24,
    "start_time": "2023-03-08T15:34:52.049Z"
   },
   {
    "duration": 775,
    "start_time": "2023-03-08T15:35:07.231Z"
   },
   {
    "duration": 53,
    "start_time": "2023-03-08T15:35:08.422Z"
   },
   {
    "duration": 37,
    "start_time": "2023-03-08T15:35:09.056Z"
   },
   {
    "duration": 37,
    "start_time": "2023-03-08T15:35:09.526Z"
   },
   {
    "duration": 36,
    "start_time": "2023-03-08T15:35:10.019Z"
   },
   {
    "duration": 5,
    "start_time": "2023-03-08T15:35:10.560Z"
   },
   {
    "duration": 21,
    "start_time": "2023-03-08T15:35:11.619Z"
   },
   {
    "duration": 7,
    "start_time": "2023-03-08T15:35:12.214Z"
   },
   {
    "duration": 11,
    "start_time": "2023-03-08T15:35:12.714Z"
   },
   {
    "duration": 26,
    "start_time": "2023-03-08T15:35:13.919Z"
   },
   {
    "duration": 10,
    "start_time": "2023-03-08T15:35:16.336Z"
   },
   {
    "duration": 8,
    "start_time": "2023-03-08T15:35:16.782Z"
   },
   {
    "duration": 7,
    "start_time": "2023-03-08T15:35:17.265Z"
   },
   {
    "duration": 158,
    "start_time": "2023-03-08T15:35:18.003Z"
   },
   {
    "duration": 127,
    "start_time": "2023-03-08T15:35:19.410Z"
   },
   {
    "duration": 14,
    "start_time": "2023-03-08T15:35:20.110Z"
   },
   {
    "duration": 301,
    "start_time": "2023-03-08T15:35:21.038Z"
   },
   {
    "duration": 11,
    "start_time": "2023-03-08T15:35:26.428Z"
   },
   {
    "duration": 308,
    "start_time": "2023-03-08T15:36:57.857Z"
   },
   {
    "duration": 629,
    "start_time": "2023-03-08T15:38:06.322Z"
   },
   {
    "duration": 417,
    "start_time": "2023-03-08T15:39:06.062Z"
   },
   {
    "duration": 318,
    "start_time": "2023-03-08T15:48:23.367Z"
   },
   {
    "duration": 310,
    "start_time": "2023-03-08T15:49:03.527Z"
   },
   {
    "duration": 175,
    "start_time": "2023-03-08T15:52:27.415Z"
   },
   {
    "duration": 342,
    "start_time": "2023-03-08T15:52:36.403Z"
   },
   {
    "duration": 293,
    "start_time": "2023-03-08T15:53:07.635Z"
   },
   {
    "duration": 425,
    "start_time": "2023-03-08T15:56:10.448Z"
   },
   {
    "duration": 67,
    "start_time": "2023-03-08T16:12:23.266Z"
   },
   {
    "duration": 111,
    "start_time": "2023-03-08T16:13:07.840Z"
   },
   {
    "duration": 6,
    "start_time": "2023-03-08T16:18:39.816Z"
   },
   {
    "duration": 6,
    "start_time": "2023-03-08T16:19:33.035Z"
   },
   {
    "duration": 5,
    "start_time": "2023-03-08T16:19:37.270Z"
   },
   {
    "duration": 6,
    "start_time": "2023-03-08T16:20:33.702Z"
   },
   {
    "duration": 6,
    "start_time": "2023-03-08T16:20:41.333Z"
   },
   {
    "duration": 10,
    "start_time": "2023-03-08T16:22:36.910Z"
   },
   {
    "duration": 10,
    "start_time": "2023-03-08T16:25:07.706Z"
   },
   {
    "duration": 8,
    "start_time": "2023-03-08T16:26:40.580Z"
   },
   {
    "duration": 119,
    "start_time": "2023-03-08T16:26:50.698Z"
   },
   {
    "duration": 126,
    "start_time": "2023-03-08T16:29:09.653Z"
   },
   {
    "duration": 5,
    "start_time": "2023-03-08T16:32:14.049Z"
   },
   {
    "duration": 194,
    "start_time": "2023-03-08T16:36:37.468Z"
   },
   {
    "duration": 221,
    "start_time": "2023-03-08T16:41:36.150Z"
   },
   {
    "duration": 179,
    "start_time": "2023-03-08T16:41:43.074Z"
   },
   {
    "duration": 996,
    "start_time": "2023-03-08T16:44:50.090Z"
   },
   {
    "duration": 27,
    "start_time": "2023-03-08T16:44:51.970Z"
   },
   {
    "duration": 37,
    "start_time": "2023-03-08T16:44:52.432Z"
   },
   {
    "duration": 17,
    "start_time": "2023-03-08T16:44:52.836Z"
   },
   {
    "duration": 23,
    "start_time": "2023-03-08T16:44:53.315Z"
   },
   {
    "duration": 4,
    "start_time": "2023-03-08T16:44:53.727Z"
   },
   {
    "duration": 11,
    "start_time": "2023-03-08T16:44:54.183Z"
   },
   {
    "duration": 5,
    "start_time": "2023-03-08T16:44:54.367Z"
   },
   {
    "duration": 12,
    "start_time": "2023-03-08T16:44:54.547Z"
   },
   {
    "duration": 10,
    "start_time": "2023-03-08T16:44:54.936Z"
   },
   {
    "duration": 8,
    "start_time": "2023-03-08T16:44:55.902Z"
   },
   {
    "duration": 7,
    "start_time": "2023-03-08T16:44:56.102Z"
   },
   {
    "duration": 6,
    "start_time": "2023-03-08T16:44:56.279Z"
   },
   {
    "duration": 200,
    "start_time": "2023-03-08T16:44:56.498Z"
   },
   {
    "duration": 134,
    "start_time": "2023-03-08T16:44:56.702Z"
   },
   {
    "duration": 7,
    "start_time": "2023-03-08T16:44:56.909Z"
   },
   {
    "duration": 282,
    "start_time": "2023-03-08T16:44:57.112Z"
   },
   {
    "duration": 7,
    "start_time": "2023-03-08T16:44:57.729Z"
   },
   {
    "duration": 265,
    "start_time": "2023-03-08T16:44:57.922Z"
   },
   {
    "duration": 399,
    "start_time": "2023-03-08T16:44:58.530Z"
   },
   {
    "duration": 296,
    "start_time": "2023-03-08T16:44:59.160Z"
   },
   {
    "duration": 457,
    "start_time": "2023-03-08T16:44:59.814Z"
   },
   {
    "duration": 146,
    "start_time": "2023-03-08T16:45:00.508Z"
   },
   {
    "duration": 12,
    "start_time": "2023-03-08T16:45:01.150Z"
   },
   {
    "duration": 162,
    "start_time": "2023-03-08T16:45:01.825Z"
   },
   {
    "duration": 6,
    "start_time": "2023-03-08T16:45:02.556Z"
   },
   {
    "duration": 187,
    "start_time": "2023-03-08T16:45:03.302Z"
   },
   {
    "duration": 173,
    "start_time": "2023-03-08T16:45:03.978Z"
   },
   {
    "duration": 138,
    "start_time": "2023-03-08T16:47:22.200Z"
   },
   {
    "duration": 184,
    "start_time": "2023-03-08T16:48:45.896Z"
   },
   {
    "duration": 140,
    "start_time": "2023-03-08T16:48:47.305Z"
   },
   {
    "duration": 9,
    "start_time": "2023-03-08T16:54:24.061Z"
   },
   {
    "duration": 877,
    "start_time": "2023-03-08T16:57:58.362Z"
   },
   {
    "duration": 737,
    "start_time": "2023-03-08T16:58:39.896Z"
   },
   {
    "duration": 784,
    "start_time": "2023-03-08T16:59:37.523Z"
   },
   {
    "duration": 822,
    "start_time": "2023-03-08T17:02:31.430Z"
   },
   {
    "duration": 793,
    "start_time": "2023-03-08T17:04:12.010Z"
   },
   {
    "duration": 985,
    "start_time": "2023-03-08T17:04:36.992Z"
   },
   {
    "duration": 27,
    "start_time": "2023-03-08T17:04:38.570Z"
   },
   {
    "duration": 46,
    "start_time": "2023-03-08T17:04:56.705Z"
   },
   {
    "duration": 15,
    "start_time": "2023-03-08T17:04:57.668Z"
   },
   {
    "duration": 22,
    "start_time": "2023-03-08T17:04:58.127Z"
   },
   {
    "duration": 4,
    "start_time": "2023-03-08T17:04:58.595Z"
   },
   {
    "duration": 10,
    "start_time": "2023-03-08T17:04:59.008Z"
   },
   {
    "duration": 5,
    "start_time": "2023-03-08T17:04:59.187Z"
   },
   {
    "duration": 10,
    "start_time": "2023-03-08T17:04:59.398Z"
   },
   {
    "duration": 12,
    "start_time": "2023-03-08T17:04:59.762Z"
   },
   {
    "duration": 8,
    "start_time": "2023-03-08T17:05:00.749Z"
   },
   {
    "duration": 7,
    "start_time": "2023-03-08T17:05:00.953Z"
   },
   {
    "duration": 5,
    "start_time": "2023-03-08T17:05:01.140Z"
   },
   {
    "duration": 148,
    "start_time": "2023-03-08T17:05:01.367Z"
   },
   {
    "duration": 104,
    "start_time": "2023-03-08T17:05:01.571Z"
   },
   {
    "duration": 6,
    "start_time": "2023-03-08T17:05:01.785Z"
   },
   {
    "duration": 279,
    "start_time": "2023-03-08T17:05:02.008Z"
   },
   {
    "duration": 6,
    "start_time": "2023-03-08T17:05:02.671Z"
   },
   {
    "duration": 258,
    "start_time": "2023-03-08T17:05:02.892Z"
   },
   {
    "duration": 381,
    "start_time": "2023-03-08T17:05:03.527Z"
   },
   {
    "duration": 275,
    "start_time": "2023-03-08T17:05:04.169Z"
   },
   {
    "duration": 387,
    "start_time": "2023-03-08T17:05:04.798Z"
   },
   {
    "duration": 115,
    "start_time": "2023-03-08T17:05:05.426Z"
   },
   {
    "duration": 10,
    "start_time": "2023-03-08T17:05:06.062Z"
   },
   {
    "duration": 143,
    "start_time": "2023-03-08T17:05:06.712Z"
   },
   {
    "duration": 5,
    "start_time": "2023-03-08T17:05:07.362Z"
   },
   {
    "duration": 199,
    "start_time": "2023-03-08T17:05:07.978Z"
   },
   {
    "duration": 174,
    "start_time": "2023-03-08T17:05:08.223Z"
   },
   {
    "duration": 10,
    "start_time": "2023-03-08T17:05:10.112Z"
   },
   {
    "duration": 915,
    "start_time": "2023-03-08T17:05:12.122Z"
   },
   {
    "duration": 753,
    "start_time": "2023-03-08T17:06:15.417Z"
   },
   {
    "duration": 834,
    "start_time": "2023-03-08T17:10:35.632Z"
   },
   {
    "duration": 840,
    "start_time": "2023-03-08T17:12:33.605Z"
   },
   {
    "duration": 1007,
    "start_time": "2023-03-08T17:14:17.308Z"
   },
   {
    "duration": 143,
    "start_time": "2023-03-08T17:14:58.777Z"
   },
   {
    "duration": 1286,
    "start_time": "2023-03-08T17:15:07.044Z"
   },
   {
    "duration": 9,
    "start_time": "2023-03-08T17:15:34.518Z"
   },
   {
    "duration": 23,
    "start_time": "2023-03-08T17:15:39.642Z"
   },
   {
    "duration": 779,
    "start_time": "2023-03-08T17:18:14.416Z"
   },
   {
    "duration": 803,
    "start_time": "2023-03-08T17:18:53.980Z"
   },
   {
    "duration": 16,
    "start_time": "2023-03-08T17:19:20.761Z"
   },
   {
    "duration": 125,
    "start_time": "2023-03-08T17:20:30.764Z"
   },
   {
    "duration": 9,
    "start_time": "2023-03-08T17:20:32.006Z"
   },
   {
    "duration": 9,
    "start_time": "2023-03-08T17:21:14.470Z"
   },
   {
    "duration": 30,
    "start_time": "2023-03-08T17:21:15.611Z"
   },
   {
    "duration": 13,
    "start_time": "2023-03-08T17:21:19.206Z"
   },
   {
    "duration": 14,
    "start_time": "2023-03-08T17:21:52.614Z"
   },
   {
    "duration": 1252,
    "start_time": "2023-03-08T20:32:58.707Z"
   },
   {
    "duration": 79,
    "start_time": "2023-03-08T20:33:01.047Z"
   },
   {
    "duration": 80,
    "start_time": "2023-03-08T20:33:01.601Z"
   },
   {
    "duration": 52,
    "start_time": "2023-03-08T20:33:01.995Z"
   },
   {
    "duration": 22,
    "start_time": "2023-03-08T20:33:02.408Z"
   },
   {
    "duration": 4,
    "start_time": "2023-03-08T20:33:02.831Z"
   },
   {
    "duration": 11,
    "start_time": "2023-03-08T20:33:03.301Z"
   },
   {
    "duration": 7,
    "start_time": "2023-03-08T20:33:03.505Z"
   },
   {
    "duration": 13,
    "start_time": "2023-03-08T20:33:03.727Z"
   },
   {
    "duration": 13,
    "start_time": "2023-03-08T20:33:04.195Z"
   },
   {
    "duration": 9,
    "start_time": "2023-03-08T20:33:05.221Z"
   },
   {
    "duration": 9,
    "start_time": "2023-03-08T20:33:05.439Z"
   },
   {
    "duration": 6,
    "start_time": "2023-03-08T20:33:05.648Z"
   },
   {
    "duration": 215,
    "start_time": "2023-03-08T20:33:05.903Z"
   },
   {
    "duration": 128,
    "start_time": "2023-03-08T20:33:06.120Z"
   },
   {
    "duration": 10,
    "start_time": "2023-03-08T20:33:06.308Z"
   },
   {
    "duration": 268,
    "start_time": "2023-03-08T20:33:06.500Z"
   },
   {
    "duration": 7,
    "start_time": "2023-03-08T20:33:07.138Z"
   },
   {
    "duration": 261,
    "start_time": "2023-03-08T20:33:07.340Z"
   },
   {
    "duration": 390,
    "start_time": "2023-03-08T20:33:07.978Z"
   },
   {
    "duration": 278,
    "start_time": "2023-03-08T20:33:08.629Z"
   },
   {
    "duration": 379,
    "start_time": "2023-03-08T20:33:09.302Z"
   },
   {
    "duration": 144,
    "start_time": "2023-03-08T20:33:09.991Z"
   },
   {
    "duration": 11,
    "start_time": "2023-03-08T20:33:10.695Z"
   },
   {
    "duration": 165,
    "start_time": "2023-03-08T20:33:11.400Z"
   },
   {
    "duration": 5,
    "start_time": "2023-03-08T20:33:12.099Z"
   },
   {
    "duration": 211,
    "start_time": "2023-03-08T20:33:12.738Z"
   },
   {
    "duration": 181,
    "start_time": "2023-03-08T20:33:12.951Z"
   },
   {
    "duration": 13,
    "start_time": "2023-03-08T20:33:13.695Z"
   },
   {
    "duration": 142,
    "start_time": "2023-03-08T20:33:14.343Z"
   },
   {
    "duration": 20,
    "start_time": "2023-03-08T20:33:14.578Z"
   },
   {
    "duration": 35,
    "start_time": "2023-03-08T20:33:14.799Z"
   },
   {
    "duration": 15,
    "start_time": "2023-03-08T20:33:15.508Z"
   },
   {
    "duration": 13,
    "start_time": "2023-03-08T21:10:26.969Z"
   },
   {
    "duration": 7,
    "start_time": "2023-03-08T21:11:08.067Z"
   },
   {
    "duration": 42,
    "start_time": "2023-03-08T21:11:34.404Z"
   },
   {
    "duration": 22,
    "start_time": "2023-03-08T21:11:58.826Z"
   },
   {
    "duration": 23,
    "start_time": "2023-03-08T21:12:17.971Z"
   },
   {
    "duration": 234,
    "start_time": "2023-03-08T21:12:31.327Z"
   },
   {
    "duration": 250,
    "start_time": "2023-03-08T21:13:15.404Z"
   },
   {
    "duration": 219,
    "start_time": "2023-03-08T21:13:22.207Z"
   },
   {
    "duration": 1034,
    "start_time": "2023-03-08T21:32:01.293Z"
   },
   {
    "duration": 28,
    "start_time": "2023-03-08T21:32:02.328Z"
   },
   {
    "duration": 37,
    "start_time": "2023-03-08T21:32:02.958Z"
   },
   {
    "duration": 16,
    "start_time": "2023-03-08T21:32:03.158Z"
   },
   {
    "duration": 22,
    "start_time": "2023-03-08T21:32:03.354Z"
   },
   {
    "duration": 4,
    "start_time": "2023-03-08T21:32:03.530Z"
   },
   {
    "duration": 11,
    "start_time": "2023-03-08T21:32:03.906Z"
   },
   {
    "duration": 5,
    "start_time": "2023-03-08T21:32:04.098Z"
   },
   {
    "duration": 10,
    "start_time": "2023-03-08T21:32:04.263Z"
   },
   {
    "duration": 10,
    "start_time": "2023-03-08T21:32:04.637Z"
   },
   {
    "duration": 7,
    "start_time": "2023-03-08T21:32:05.614Z"
   },
   {
    "duration": 7,
    "start_time": "2023-03-08T21:32:05.850Z"
   },
   {
    "duration": 6,
    "start_time": "2023-03-08T21:32:06.058Z"
   },
   {
    "duration": 141,
    "start_time": "2023-03-08T21:32:06.246Z"
   },
   {
    "duration": 101,
    "start_time": "2023-03-08T21:32:06.454Z"
   },
   {
    "duration": 6,
    "start_time": "2023-03-08T21:32:06.653Z"
   },
   {
    "duration": 265,
    "start_time": "2023-03-08T21:32:06.874Z"
   },
   {
    "duration": 6,
    "start_time": "2023-03-08T21:32:07.520Z"
   },
   {
    "duration": 242,
    "start_time": "2023-03-08T21:32:07.729Z"
   },
   {
    "duration": 378,
    "start_time": "2023-03-08T21:32:08.362Z"
   },
   {
    "duration": 273,
    "start_time": "2023-03-08T21:32:09.020Z"
   },
   {
    "duration": 380,
    "start_time": "2023-03-08T21:32:09.613Z"
   },
   {
    "duration": 121,
    "start_time": "2023-03-08T21:32:10.268Z"
   },
   {
    "duration": 10,
    "start_time": "2023-03-08T21:32:10.893Z"
   },
   {
    "duration": 123,
    "start_time": "2023-03-08T21:32:11.596Z"
   },
   {
    "duration": 5,
    "start_time": "2023-03-08T21:32:12.255Z"
   },
   {
    "duration": 186,
    "start_time": "2023-03-08T21:32:12.884Z"
   },
   {
    "duration": 156,
    "start_time": "2023-03-08T21:32:13.085Z"
   },
   {
    "duration": 13,
    "start_time": "2023-03-08T21:32:13.717Z"
   },
   {
    "duration": 132,
    "start_time": "2023-03-08T21:32:14.336Z"
   },
   {
    "duration": 7,
    "start_time": "2023-03-08T21:32:14.555Z"
   },
   {
    "duration": 20,
    "start_time": "2023-03-08T21:32:14.764Z"
   },
   {
    "duration": 13,
    "start_time": "2023-03-08T21:32:15.439Z"
   },
   {
    "duration": 2,
    "start_time": "2023-03-08T21:32:36.425Z"
   },
   {
    "duration": 1023,
    "start_time": "2023-03-08T21:33:10.733Z"
   },
   {
    "duration": 27,
    "start_time": "2023-03-08T21:33:11.758Z"
   },
   {
    "duration": 37,
    "start_time": "2023-03-08T21:33:11.787Z"
   },
   {
    "duration": 15,
    "start_time": "2023-03-08T21:33:11.826Z"
   },
   {
    "duration": 24,
    "start_time": "2023-03-08T21:33:11.843Z"
   },
   {
    "duration": 13,
    "start_time": "2023-03-08T21:33:11.869Z"
   },
   {
    "duration": 11,
    "start_time": "2023-03-08T21:33:12.141Z"
   },
   {
    "duration": 5,
    "start_time": "2023-03-08T21:33:12.353Z"
   },
   {
    "duration": 9,
    "start_time": "2023-03-08T21:33:12.547Z"
   },
   {
    "duration": 10,
    "start_time": "2023-03-08T21:33:12.952Z"
   },
   {
    "duration": 8,
    "start_time": "2023-03-08T21:33:13.960Z"
   },
   {
    "duration": 7,
    "start_time": "2023-03-08T21:33:14.153Z"
   },
   {
    "duration": 5,
    "start_time": "2023-03-08T21:33:14.374Z"
   },
   {
    "duration": 141,
    "start_time": "2023-03-08T21:33:14.557Z"
   },
   {
    "duration": 108,
    "start_time": "2023-03-08T21:33:14.776Z"
   },
   {
    "duration": 6,
    "start_time": "2023-03-08T21:33:15.004Z"
   },
   {
    "duration": 274,
    "start_time": "2023-03-08T21:33:15.229Z"
   },
   {
    "duration": 9,
    "start_time": "2023-03-08T21:33:15.911Z"
   },
   {
    "duration": 260,
    "start_time": "2023-03-08T21:33:16.136Z"
   },
   {
    "duration": 358,
    "start_time": "2023-03-08T21:33:16.797Z"
   },
   {
    "duration": 265,
    "start_time": "2023-03-08T21:33:17.434Z"
   },
   {
    "duration": 435,
    "start_time": "2023-03-08T21:33:18.050Z"
   },
   {
    "duration": 106,
    "start_time": "2023-03-08T21:33:18.695Z"
   },
   {
    "duration": 10,
    "start_time": "2023-03-08T21:33:19.342Z"
   },
   {
    "duration": 124,
    "start_time": "2023-03-08T21:33:20.007Z"
   },
   {
    "duration": 4,
    "start_time": "2023-03-08T21:33:20.675Z"
   },
   {
    "duration": 198,
    "start_time": "2023-03-08T21:33:21.334Z"
   },
   {
    "duration": 165,
    "start_time": "2023-03-08T21:33:21.550Z"
   },
   {
    "duration": 12,
    "start_time": "2023-03-08T21:33:22.249Z"
   },
   {
    "duration": 140,
    "start_time": "2023-03-08T21:33:22.929Z"
   },
   {
    "duration": 8,
    "start_time": "2023-03-08T21:33:23.178Z"
   },
   {
    "duration": 22,
    "start_time": "2023-03-08T21:33:23.407Z"
   },
   {
    "duration": 20,
    "start_time": "2023-03-08T21:33:24.094Z"
   },
   {
    "duration": 1062,
    "start_time": "2023-03-09T06:29:13.303Z"
   },
   {
    "duration": 29,
    "start_time": "2023-03-09T06:29:14.367Z"
   },
   {
    "duration": 38,
    "start_time": "2023-03-09T06:29:14.398Z"
   },
   {
    "duration": 16,
    "start_time": "2023-03-09T06:29:14.439Z"
   },
   {
    "duration": 24,
    "start_time": "2023-03-09T06:29:14.457Z"
   },
   {
    "duration": 14,
    "start_time": "2023-03-09T06:29:14.484Z"
   },
   {
    "duration": 27,
    "start_time": "2023-03-09T06:29:14.500Z"
   },
   {
    "duration": 8,
    "start_time": "2023-03-09T06:29:14.529Z"
   },
   {
    "duration": 12,
    "start_time": "2023-03-09T06:29:14.539Z"
   },
   {
    "duration": 15,
    "start_time": "2023-03-09T06:29:14.555Z"
   },
   {
    "duration": 12,
    "start_time": "2023-03-09T06:29:14.571Z"
   },
   {
    "duration": 18,
    "start_time": "2023-03-09T06:29:14.585Z"
   },
   {
    "duration": 12,
    "start_time": "2023-03-09T06:29:14.605Z"
   },
   {
    "duration": 200,
    "start_time": "2023-03-09T06:29:14.619Z"
   },
   {
    "duration": 122,
    "start_time": "2023-03-09T06:29:14.821Z"
   },
   {
    "duration": 9,
    "start_time": "2023-03-09T06:29:14.945Z"
   },
   {
    "duration": 372,
    "start_time": "2023-03-09T06:29:14.956Z"
   },
   {
    "duration": 12,
    "start_time": "2023-03-09T06:29:15.329Z"
   },
   {
    "duration": 325,
    "start_time": "2023-03-09T06:29:15.343Z"
   },
   {
    "duration": 438,
    "start_time": "2023-03-09T06:29:15.670Z"
   },
   {
    "duration": 354,
    "start_time": "2023-03-09T06:29:16.111Z"
   },
   {
    "duration": 399,
    "start_time": "2023-03-09T06:29:16.467Z"
   },
   {
    "duration": 174,
    "start_time": "2023-03-09T06:29:16.868Z"
   },
   {
    "duration": 14,
    "start_time": "2023-03-09T06:29:17.044Z"
   },
   {
    "duration": 153,
    "start_time": "2023-03-09T06:29:17.060Z"
   },
   {
    "duration": 7,
    "start_time": "2023-03-09T06:29:17.215Z"
   },
   {
    "duration": 245,
    "start_time": "2023-03-09T06:29:17.225Z"
   },
   {
    "duration": 187,
    "start_time": "2023-03-09T06:29:17.474Z"
   },
   {
    "duration": 11,
    "start_time": "2023-03-09T06:29:17.663Z"
   },
   {
    "duration": 187,
    "start_time": "2023-03-09T06:29:17.675Z"
   },
   {
    "duration": 8,
    "start_time": "2023-03-09T06:29:17.864Z"
   },
   {
    "duration": 26,
    "start_time": "2023-03-09T06:29:17.873Z"
   },
   {
    "duration": 14,
    "start_time": "2023-03-09T06:29:17.902Z"
   },
   {
    "duration": 56,
    "start_time": "2023-03-09T08:26:41.419Z"
   },
   {
    "duration": 1328,
    "start_time": "2023-03-09T08:26:54.640Z"
   },
   {
    "duration": 61,
    "start_time": "2023-03-09T08:27:25.095Z"
   },
   {
    "duration": 80,
    "start_time": "2023-03-09T08:27:25.783Z"
   },
   {
    "duration": 66,
    "start_time": "2023-03-09T08:27:26.502Z"
   },
   {
    "duration": 26,
    "start_time": "2023-03-09T08:27:28.581Z"
   },
   {
    "duration": 4,
    "start_time": "2023-03-09T08:27:29.263Z"
   },
   {
    "duration": 11,
    "start_time": "2023-03-09T08:27:31.502Z"
   },
   {
    "duration": 6,
    "start_time": "2023-03-09T08:28:00.117Z"
   },
   {
    "duration": 13,
    "start_time": "2023-03-09T08:28:12.102Z"
   },
   {
    "duration": 142,
    "start_time": "2023-03-09T08:28:49.952Z"
   },
   {
    "duration": 5,
    "start_time": "2023-03-09T08:29:00.248Z"
   },
   {
    "duration": 6,
    "start_time": "2023-03-09T08:29:13.994Z"
   },
   {
    "duration": 6,
    "start_time": "2023-03-09T08:29:25.704Z"
   },
   {
    "duration": 5,
    "start_time": "2023-03-09T08:29:34.537Z"
   },
   {
    "duration": 10,
    "start_time": "2023-03-09T08:37:51.742Z"
   },
   {
    "duration": 9,
    "start_time": "2023-03-09T08:39:15.295Z"
   },
   {
    "duration": 14,
    "start_time": "2023-03-09T08:40:37.383Z"
   },
   {
    "duration": 8,
    "start_time": "2023-03-09T08:41:40.182Z"
   },
   {
    "duration": 14,
    "start_time": "2023-03-09T08:41:55.976Z"
   },
   {
    "duration": 11,
    "start_time": "2023-03-09T08:43:11.811Z"
   },
   {
    "duration": 4,
    "start_time": "2023-03-09T08:49:44.789Z"
   },
   {
    "duration": 11,
    "start_time": "2023-03-09T08:49:54.516Z"
   },
   {
    "duration": 3,
    "start_time": "2023-03-09T08:50:19.815Z"
   },
   {
    "duration": 45,
    "start_time": "2023-03-09T11:42:39.167Z"
   },
   {
    "duration": 3,
    "start_time": "2023-03-09T12:01:01.536Z"
   },
   {
    "duration": 1127,
    "start_time": "2023-03-09T12:01:08.277Z"
   },
   {
    "duration": 27,
    "start_time": "2023-03-09T12:01:10.117Z"
   },
   {
    "duration": 76,
    "start_time": "2023-03-09T12:01:10.721Z"
   },
   {
    "duration": 60,
    "start_time": "2023-03-09T12:01:11.186Z"
   },
   {
    "duration": 21,
    "start_time": "2023-03-09T12:01:18.971Z"
   },
   {
    "duration": 4,
    "start_time": "2023-03-09T12:01:19.625Z"
   },
   {
    "duration": 10,
    "start_time": "2023-03-09T12:01:21.125Z"
   },
   {
    "duration": 10,
    "start_time": "2023-03-09T12:01:21.672Z"
   },
   {
    "duration": 4,
    "start_time": "2023-03-09T12:01:22.178Z"
   },
   {
    "duration": 3,
    "start_time": "2023-03-09T12:01:22.929Z"
   },
   {
    "duration": 13,
    "start_time": "2023-03-09T12:01:23.579Z"
   },
   {
    "duration": 13,
    "start_time": "2023-03-09T12:01:53.688Z"
   },
   {
    "duration": 11,
    "start_time": "2023-03-09T12:02:11.912Z"
   },
   {
    "duration": 5,
    "start_time": "2023-03-09T12:02:22.278Z"
   },
   {
    "duration": 7,
    "start_time": "2023-03-09T12:02:22.938Z"
   },
   {
    "duration": 5,
    "start_time": "2023-03-09T12:02:23.469Z"
   },
   {
    "duration": 6,
    "start_time": "2023-03-09T12:02:23.927Z"
   },
   {
    "duration": 5,
    "start_time": "2023-03-09T12:02:24.421Z"
   },
   {
    "duration": 6,
    "start_time": "2023-03-09T12:02:24.936Z"
   },
   {
    "duration": 10,
    "start_time": "2023-03-09T12:02:26.143Z"
   },
   {
    "duration": 6,
    "start_time": "2023-03-09T12:02:26.418Z"
   },
   {
    "duration": 9,
    "start_time": "2023-03-09T12:02:26.724Z"
   },
   {
    "duration": 12,
    "start_time": "2023-03-09T12:02:27.483Z"
   },
   {
    "duration": 9,
    "start_time": "2023-03-09T12:02:29.662Z"
   },
   {
    "duration": 7,
    "start_time": "2023-03-09T12:02:29.869Z"
   },
   {
    "duration": 6,
    "start_time": "2023-03-09T12:02:30.123Z"
   },
   {
    "duration": 158,
    "start_time": "2023-03-09T12:02:30.342Z"
   },
   {
    "duration": 114,
    "start_time": "2023-03-09T12:02:30.568Z"
   },
   {
    "duration": 6,
    "start_time": "2023-03-09T12:02:30.801Z"
   },
   {
    "duration": 293,
    "start_time": "2023-03-09T12:02:31.050Z"
   },
   {
    "duration": 8,
    "start_time": "2023-03-09T12:02:31.704Z"
   },
   {
    "duration": 241,
    "start_time": "2023-03-09T12:02:31.903Z"
   },
   {
    "duration": 343,
    "start_time": "2023-03-09T12:02:32.542Z"
   },
   {
    "duration": 249,
    "start_time": "2023-03-09T12:02:33.210Z"
   },
   {
    "duration": 385,
    "start_time": "2023-03-09T12:02:33.870Z"
   },
   {
    "duration": 114,
    "start_time": "2023-03-09T12:02:35.047Z"
   },
   {
    "duration": 10,
    "start_time": "2023-03-09T12:02:35.670Z"
   },
   {
    "duration": 124,
    "start_time": "2023-03-09T12:02:36.326Z"
   },
   {
    "duration": 4,
    "start_time": "2023-03-09T12:02:36.954Z"
   },
   {
    "duration": 175,
    "start_time": "2023-03-09T12:02:38.135Z"
   },
   {
    "duration": 168,
    "start_time": "2023-03-09T12:02:39.457Z"
   },
   {
    "duration": 8,
    "start_time": "2023-03-09T12:02:40.341Z"
   },
   {
    "duration": 144,
    "start_time": "2023-03-09T12:02:41.058Z"
   },
   {
    "duration": 7,
    "start_time": "2023-03-09T12:02:41.527Z"
   },
   {
    "duration": 20,
    "start_time": "2023-03-09T12:02:41.962Z"
   },
   {
    "duration": 12,
    "start_time": "2023-03-09T12:02:42.920Z"
   },
   {
    "duration": 985,
    "start_time": "2023-03-09T12:13:37.438Z"
   },
   {
    "duration": 27,
    "start_time": "2023-03-09T12:13:38.424Z"
   },
   {
    "duration": 35,
    "start_time": "2023-03-09T12:13:39.248Z"
   },
   {
    "duration": 26,
    "start_time": "2023-03-09T12:13:39.678Z"
   },
   {
    "duration": 22,
    "start_time": "2023-03-09T12:13:40.418Z"
   },
   {
    "duration": 4,
    "start_time": "2023-03-09T12:13:40.636Z"
   },
   {
    "duration": 10,
    "start_time": "2023-03-09T12:13:41.293Z"
   },
   {
    "duration": 9,
    "start_time": "2023-03-09T12:13:41.504Z"
   },
   {
    "duration": 4,
    "start_time": "2023-03-09T12:13:41.698Z"
   },
   {
    "duration": 4,
    "start_time": "2023-03-09T12:13:41.884Z"
   },
   {
    "duration": 10,
    "start_time": "2023-03-09T12:13:42.115Z"
   },
   {
    "duration": 10,
    "start_time": "2023-03-09T12:13:42.332Z"
   },
   {
    "duration": 5,
    "start_time": "2023-03-09T12:13:42.514Z"
   },
   {
    "duration": 6,
    "start_time": "2023-03-09T12:13:42.728Z"
   },
   {
    "duration": 5,
    "start_time": "2023-03-09T12:13:42.924Z"
   },
   {
    "duration": 5,
    "start_time": "2023-03-09T12:13:43.133Z"
   },
   {
    "duration": 5,
    "start_time": "2023-03-09T12:13:43.309Z"
   },
   {
    "duration": 5,
    "start_time": "2023-03-09T12:13:43.519Z"
   },
   {
    "duration": 7,
    "start_time": "2023-03-09T12:13:44.138Z"
   },
   {
    "duration": 5,
    "start_time": "2023-03-09T12:13:44.356Z"
   },
   {
    "duration": 8,
    "start_time": "2023-03-09T12:13:44.584Z"
   },
   {
    "duration": 9,
    "start_time": "2023-03-09T12:13:44.978Z"
   },
   {
    "duration": 7,
    "start_time": "2023-03-09T12:13:46.606Z"
   },
   {
    "duration": 7,
    "start_time": "2023-03-09T12:13:46.815Z"
   },
   {
    "duration": 5,
    "start_time": "2023-03-09T12:13:47.000Z"
   },
   {
    "duration": 144,
    "start_time": "2023-03-09T12:13:47.219Z"
   },
   {
    "duration": 96,
    "start_time": "2023-03-09T12:13:47.411Z"
   },
   {
    "duration": 6,
    "start_time": "2023-03-09T12:13:47.615Z"
   },
   {
    "duration": 247,
    "start_time": "2023-03-09T12:13:47.843Z"
   },
   {
    "duration": 6,
    "start_time": "2023-03-09T12:13:48.515Z"
   },
   {
    "duration": 231,
    "start_time": "2023-03-09T12:13:48.724Z"
   },
   {
    "duration": 356,
    "start_time": "2023-03-09T12:13:49.393Z"
   },
   {
    "duration": 255,
    "start_time": "2023-03-09T12:13:50.043Z"
   },
   {
    "duration": 425,
    "start_time": "2023-03-09T12:13:50.674Z"
   },
   {
    "duration": 116,
    "start_time": "2023-03-09T12:13:51.795Z"
   },
   {
    "duration": 10,
    "start_time": "2023-03-09T12:13:52.498Z"
   },
   {
    "duration": 121,
    "start_time": "2023-03-09T12:13:53.167Z"
   },
   {
    "duration": 5,
    "start_time": "2023-03-09T12:13:53.855Z"
   },
   {
    "duration": 184,
    "start_time": "2023-03-09T12:13:55.020Z"
   },
   {
    "duration": 183,
    "start_time": "2023-03-09T12:13:55.267Z"
   },
   {
    "duration": 9,
    "start_time": "2023-03-09T12:13:55.958Z"
   },
   {
    "duration": 149,
    "start_time": "2023-03-09T12:13:56.617Z"
   },
   {
    "duration": 7,
    "start_time": "2023-03-09T12:13:56.809Z"
   },
   {
    "duration": 20,
    "start_time": "2023-03-09T12:13:57.030Z"
   },
   {
    "duration": 12,
    "start_time": "2023-03-09T12:13:57.628Z"
   },
   {
    "duration": 11,
    "start_time": "2023-03-09T12:18:56.716Z"
   },
   {
    "duration": 3,
    "start_time": "2023-03-09T12:22:05.423Z"
   },
   {
    "duration": 3,
    "start_time": "2023-03-09T12:22:06.209Z"
   },
   {
    "duration": 10,
    "start_time": "2023-03-09T12:22:06.880Z"
   },
   {
    "duration": 12,
    "start_time": "2023-03-09T12:22:09.417Z"
   },
   {
    "duration": 12,
    "start_time": "2023-03-09T12:22:13.381Z"
   },
   {
    "duration": 3,
    "start_time": "2023-03-09T12:22:35.823Z"
   },
   {
    "duration": 3,
    "start_time": "2023-03-09T12:22:36.580Z"
   },
   {
    "duration": 10,
    "start_time": "2023-03-09T12:22:37.580Z"
   },
   {
    "duration": 10,
    "start_time": "2023-03-09T12:22:38.911Z"
   },
   {
    "duration": 3,
    "start_time": "2023-03-09T12:23:03.250Z"
   },
   {
    "duration": 4,
    "start_time": "2023-03-09T12:23:04.309Z"
   },
   {
    "duration": 9,
    "start_time": "2023-03-09T12:23:05.942Z"
   },
   {
    "duration": 11,
    "start_time": "2023-03-09T12:23:07.555Z"
   },
   {
    "duration": 5,
    "start_time": "2023-03-09T12:24:43.870Z"
   },
   {
    "duration": 10,
    "start_time": "2023-03-09T12:25:02.652Z"
   },
   {
    "duration": 9,
    "start_time": "2023-03-09T12:25:57.285Z"
   },
   {
    "duration": 12,
    "start_time": "2023-03-09T12:50:25.110Z"
   },
   {
    "duration": 7,
    "start_time": "2023-03-09T12:50:43.233Z"
   },
   {
    "duration": 5,
    "start_time": "2023-03-09T12:58:05.824Z"
   },
   {
    "duration": 1320,
    "start_time": "2023-03-09T13:04:24.860Z"
   },
   {
    "duration": 26,
    "start_time": "2023-03-09T13:04:26.748Z"
   },
   {
    "duration": 37,
    "start_time": "2023-03-09T13:04:27.253Z"
   },
   {
    "duration": 25,
    "start_time": "2023-03-09T13:04:27.868Z"
   },
   {
    "duration": 23,
    "start_time": "2023-03-09T13:04:29.015Z"
   },
   {
    "duration": 3,
    "start_time": "2023-03-09T13:04:29.419Z"
   },
   {
    "duration": 11,
    "start_time": "2023-03-09T13:04:30.538Z"
   },
   {
    "duration": 9,
    "start_time": "2023-03-09T13:04:30.735Z"
   },
   {
    "duration": 3,
    "start_time": "2023-03-09T13:04:31.016Z"
   },
   {
    "duration": 4,
    "start_time": "2023-03-09T13:04:31.265Z"
   },
   {
    "duration": 10,
    "start_time": "2023-03-09T13:04:31.498Z"
   },
   {
    "duration": 14,
    "start_time": "2023-03-09T13:04:31.710Z"
   },
   {
    "duration": 6,
    "start_time": "2023-03-09T13:04:31.978Z"
   },
   {
    "duration": 6,
    "start_time": "2023-03-09T13:04:32.198Z"
   },
   {
    "duration": 6,
    "start_time": "2023-03-09T13:04:32.368Z"
   },
   {
    "duration": 5,
    "start_time": "2023-03-09T13:04:32.530Z"
   },
   {
    "duration": 5,
    "start_time": "2023-03-09T13:04:32.775Z"
   },
   {
    "duration": 6,
    "start_time": "2023-03-09T13:04:32.893Z"
   },
   {
    "duration": 8,
    "start_time": "2023-03-09T13:04:33.078Z"
   },
   {
    "duration": 10,
    "start_time": "2023-03-09T13:04:33.693Z"
   },
   {
    "duration": 5,
    "start_time": "2023-03-09T13:04:33.866Z"
   },
   {
    "duration": 9,
    "start_time": "2023-03-09T13:04:34.140Z"
   },
   {
    "duration": 11,
    "start_time": "2023-03-09T13:04:34.498Z"
   },
   {
    "duration": 8,
    "start_time": "2023-03-09T13:04:37.738Z"
   },
   {
    "duration": 7,
    "start_time": "2023-03-09T13:04:37.748Z"
   },
   {
    "duration": 146,
    "start_time": "2023-03-09T13:04:37.757Z"
   },
   {
    "duration": 109,
    "start_time": "2023-03-09T13:04:37.905Z"
   },
   {
    "duration": 8,
    "start_time": "2023-03-09T13:04:38.016Z"
   },
   {
    "duration": 274,
    "start_time": "2023-03-09T13:04:38.026Z"
   },
   {
    "duration": 7,
    "start_time": "2023-03-09T13:04:38.302Z"
   },
   {
    "duration": 249,
    "start_time": "2023-03-09T13:04:38.311Z"
   },
   {
    "duration": 328,
    "start_time": "2023-03-09T13:04:38.608Z"
   },
   {
    "duration": 246,
    "start_time": "2023-03-09T13:04:39.245Z"
   },
   {
    "duration": 394,
    "start_time": "2023-03-09T13:04:39.863Z"
   },
   {
    "duration": 117,
    "start_time": "2023-03-09T13:04:40.980Z"
   },
   {
    "duration": 9,
    "start_time": "2023-03-09T13:04:41.548Z"
   },
   {
    "duration": 121,
    "start_time": "2023-03-09T13:04:42.208Z"
   },
   {
    "duration": 5,
    "start_time": "2023-03-09T13:04:42.859Z"
   },
   {
    "duration": 179,
    "start_time": "2023-03-09T13:04:43.944Z"
   },
   {
    "duration": 179,
    "start_time": "2023-03-09T13:04:44.125Z"
   },
   {
    "duration": 10,
    "start_time": "2023-03-09T13:04:44.758Z"
   },
   {
    "duration": 147,
    "start_time": "2023-03-09T13:04:45.387Z"
   },
   {
    "duration": 7,
    "start_time": "2023-03-09T13:04:45.605Z"
   },
   {
    "duration": 18,
    "start_time": "2023-03-09T13:04:45.854Z"
   },
   {
    "duration": 12,
    "start_time": "2023-03-09T13:04:46.540Z"
   },
   {
    "duration": 426,
    "start_time": "2023-03-09T13:08:38.786Z"
   },
   {
    "duration": 363,
    "start_time": "2023-03-09T13:09:10.642Z"
   },
   {
    "duration": 396,
    "start_time": "2023-03-09T13:10:02.399Z"
   },
   {
    "duration": 366,
    "start_time": "2023-03-09T13:10:40.416Z"
   },
   {
    "duration": 293,
    "start_time": "2023-03-09T13:11:37.580Z"
   },
   {
    "duration": 283,
    "start_time": "2023-03-09T13:11:48.048Z"
   },
   {
    "duration": 417,
    "start_time": "2023-03-09T13:12:04.538Z"
   },
   {
    "duration": 421,
    "start_time": "2023-03-09T13:13:01.260Z"
   },
   {
    "duration": 279,
    "start_time": "2023-03-09T13:13:14.939Z"
   },
   {
    "duration": 361,
    "start_time": "2023-03-09T13:13:22.397Z"
   },
   {
    "duration": 242,
    "start_time": "2023-03-09T13:13:30.939Z"
   },
   {
    "duration": 243,
    "start_time": "2023-03-09T13:13:39.860Z"
   },
   {
    "duration": 152,
    "start_time": "2023-03-09T13:14:37.168Z"
   },
   {
    "duration": 7,
    "start_time": "2023-03-09T13:14:38.624Z"
   },
   {
    "duration": 20,
    "start_time": "2023-03-09T13:14:39.488Z"
   },
   {
    "duration": 5,
    "start_time": "2023-03-09T13:25:37.903Z"
   },
   {
    "duration": 8,
    "start_time": "2023-03-09T13:25:48.326Z"
   },
   {
    "duration": 103,
    "start_time": "2023-03-09T13:28:54.088Z"
   },
   {
    "duration": 11,
    "start_time": "2023-03-09T13:29:14.217Z"
   },
   {
    "duration": 10,
    "start_time": "2023-03-09T13:29:19.040Z"
   },
   {
    "duration": 12,
    "start_time": "2023-03-09T13:29:23.756Z"
   },
   {
    "duration": 4,
    "start_time": "2023-03-09T13:31:48.241Z"
   },
   {
    "duration": 89,
    "start_time": "2023-03-09T13:31:54.999Z"
   },
   {
    "duration": 11,
    "start_time": "2023-03-09T13:33:52.100Z"
   },
   {
    "duration": 9,
    "start_time": "2023-03-09T13:33:57.576Z"
   },
   {
    "duration": 1049,
    "start_time": "2023-03-09T13:36:26.168Z"
   },
   {
    "duration": 26,
    "start_time": "2023-03-09T13:36:28.166Z"
   },
   {
    "duration": 35,
    "start_time": "2023-03-09T13:36:28.809Z"
   },
   {
    "duration": 25,
    "start_time": "2023-03-09T13:36:29.269Z"
   },
   {
    "duration": 24,
    "start_time": "2023-03-09T13:36:30.966Z"
   },
   {
    "duration": 4,
    "start_time": "2023-03-09T13:36:31.658Z"
   },
   {
    "duration": 12,
    "start_time": "2023-03-09T13:36:32.938Z"
   },
   {
    "duration": 10,
    "start_time": "2023-03-09T13:36:33.458Z"
   },
   {
    "duration": 3,
    "start_time": "2023-03-09T13:36:33.973Z"
   },
   {
    "duration": 4,
    "start_time": "2023-03-09T13:36:34.396Z"
   },
   {
    "duration": 10,
    "start_time": "2023-03-09T13:36:34.829Z"
   },
   {
    "duration": 11,
    "start_time": "2023-03-09T13:36:35.289Z"
   },
   {
    "duration": 5,
    "start_time": "2023-03-09T13:36:35.739Z"
   },
   {
    "duration": 8,
    "start_time": "2023-03-09T13:36:36.224Z"
   },
   {
    "duration": 5,
    "start_time": "2023-03-09T13:36:36.695Z"
   },
   {
    "duration": 5,
    "start_time": "2023-03-09T13:36:37.116Z"
   },
   {
    "duration": 6,
    "start_time": "2023-03-09T13:36:38.014Z"
   },
   {
    "duration": 5,
    "start_time": "2023-03-09T13:36:38.459Z"
   },
   {
    "duration": 6,
    "start_time": "2023-03-09T13:36:38.918Z"
   },
   {
    "duration": 8,
    "start_time": "2023-03-09T13:36:40.298Z"
   },
   {
    "duration": 4,
    "start_time": "2023-03-09T13:36:40.790Z"
   },
   {
    "duration": 9,
    "start_time": "2023-03-09T13:36:41.243Z"
   },
   {
    "duration": 10,
    "start_time": "2023-03-09T13:36:41.969Z"
   },
   {
    "duration": 8,
    "start_time": "2023-03-09T13:36:44.015Z"
   },
   {
    "duration": 6,
    "start_time": "2023-03-09T13:36:44.300Z"
   },
   {
    "duration": 146,
    "start_time": "2023-03-09T13:36:44.588Z"
   },
   {
    "duration": 108,
    "start_time": "2023-03-09T13:36:44.794Z"
   },
   {
    "duration": 6,
    "start_time": "2023-03-09T13:36:45.114Z"
   },
   {
    "duration": 260,
    "start_time": "2023-03-09T13:36:45.588Z"
   },
   {
    "duration": 6,
    "start_time": "2023-03-09T13:36:46.808Z"
   },
   {
    "duration": 235,
    "start_time": "2023-03-09T13:36:47.090Z"
   },
   {
    "duration": 318,
    "start_time": "2023-03-09T13:36:47.820Z"
   },
   {
    "duration": 251,
    "start_time": "2023-03-09T13:36:48.619Z"
   },
   {
    "duration": 357,
    "start_time": "2023-03-09T13:36:49.408Z"
   },
   {
    "duration": 109,
    "start_time": "2023-03-09T13:36:50.704Z"
   },
   {
    "duration": 9,
    "start_time": "2023-03-09T13:36:51.511Z"
   },
   {
    "duration": 145,
    "start_time": "2023-03-09T13:36:53.716Z"
   },
   {
    "duration": 5,
    "start_time": "2023-03-09T13:36:58.918Z"
   },
   {
    "duration": 208,
    "start_time": "2023-03-09T13:37:00.947Z"
   },
   {
    "duration": 176,
    "start_time": "2023-03-09T13:37:02.121Z"
   },
   {
    "duration": 9,
    "start_time": "2023-03-09T13:37:03.836Z"
   },
   {
    "duration": 155,
    "start_time": "2023-03-09T13:37:04.768Z"
   },
   {
    "duration": 7,
    "start_time": "2023-03-09T13:37:05.260Z"
   },
   {
    "duration": 20,
    "start_time": "2023-03-09T13:37:05.990Z"
   },
   {
    "duration": 97,
    "start_time": "2023-03-09T13:38:56.526Z"
   },
   {
    "duration": 10,
    "start_time": "2023-03-09T13:39:03.258Z"
   },
   {
    "duration": 4,
    "start_time": "2023-03-09T13:42:20.191Z"
   },
   {
    "duration": 2,
    "start_time": "2023-03-09T13:42:33.288Z"
   },
   {
    "duration": 3,
    "start_time": "2023-03-09T13:43:27.095Z"
   },
   {
    "duration": 4,
    "start_time": "2023-03-09T13:43:29.417Z"
   },
   {
    "duration": 4,
    "start_time": "2023-03-09T13:43:46.578Z"
   },
   {
    "duration": 12,
    "start_time": "2023-03-09T13:45:43.048Z"
   },
   {
    "duration": 11,
    "start_time": "2023-03-09T13:45:51.757Z"
   },
   {
    "duration": 983,
    "start_time": "2023-03-09T13:46:07.230Z"
   },
   {
    "duration": 27,
    "start_time": "2023-03-09T13:46:08.898Z"
   },
   {
    "duration": 36,
    "start_time": "2023-03-09T13:46:09.430Z"
   },
   {
    "duration": 25,
    "start_time": "2023-03-09T13:46:09.963Z"
   },
   {
    "duration": 22,
    "start_time": "2023-03-09T13:46:11.898Z"
   },
   {
    "duration": 4,
    "start_time": "2023-03-09T13:46:12.568Z"
   },
   {
    "duration": 11,
    "start_time": "2023-03-09T13:46:14.466Z"
   },
   {
    "duration": 10,
    "start_time": "2023-03-09T13:46:16.619Z"
   },
   {
    "duration": 4,
    "start_time": "2023-03-09T13:46:17.216Z"
   },
   {
    "duration": 3,
    "start_time": "2023-03-09T13:46:17.790Z"
   },
   {
    "duration": 10,
    "start_time": "2023-03-09T13:46:18.260Z"
   },
   {
    "duration": 11,
    "start_time": "2023-03-09T13:46:18.857Z"
   },
   {
    "duration": 6,
    "start_time": "2023-03-09T13:46:19.460Z"
   },
   {
    "duration": 6,
    "start_time": "2023-03-09T13:46:20.290Z"
   },
   {
    "duration": 5,
    "start_time": "2023-03-09T13:46:20.929Z"
   },
   {
    "duration": 4,
    "start_time": "2023-03-09T13:46:21.415Z"
   },
   {
    "duration": 5,
    "start_time": "2023-03-09T13:46:21.971Z"
   },
   {
    "duration": 5,
    "start_time": "2023-03-09T13:46:22.818Z"
   },
   {
    "duration": 7,
    "start_time": "2023-03-09T13:46:23.268Z"
   },
   {
    "duration": 8,
    "start_time": "2023-03-09T13:46:25.689Z"
   },
   {
    "duration": 5,
    "start_time": "2023-03-09T13:46:29.306Z"
   },
   {
    "duration": 9,
    "start_time": "2023-03-09T13:46:30.006Z"
   },
   {
    "duration": 11,
    "start_time": "2023-03-09T13:46:31.688Z"
   },
   {
    "duration": 8,
    "start_time": "2023-03-09T13:46:33.505Z"
   },
   {
    "duration": 7,
    "start_time": "2023-03-09T13:46:33.676Z"
   },
   {
    "duration": 151,
    "start_time": "2023-03-09T13:46:33.855Z"
   },
   {
    "duration": 95,
    "start_time": "2023-03-09T13:46:34.058Z"
   },
   {
    "duration": 7,
    "start_time": "2023-03-09T13:46:34.268Z"
   },
   {
    "duration": 254,
    "start_time": "2023-03-09T13:46:34.454Z"
   },
   {
    "duration": 7,
    "start_time": "2023-03-09T13:46:35.158Z"
   },
   {
    "duration": 238,
    "start_time": "2023-03-09T13:46:35.309Z"
   },
   {
    "duration": 400,
    "start_time": "2023-03-09T13:46:35.965Z"
   },
   {
    "duration": 254,
    "start_time": "2023-03-09T13:46:36.698Z"
   },
   {
    "duration": 372,
    "start_time": "2023-03-09T13:46:37.290Z"
   },
   {
    "duration": 106,
    "start_time": "2023-03-09T13:46:38.397Z"
   },
   {
    "duration": 11,
    "start_time": "2023-03-09T13:46:39.068Z"
   },
   {
    "duration": 119,
    "start_time": "2023-03-09T13:46:39.704Z"
   },
   {
    "duration": 4,
    "start_time": "2023-03-09T13:46:40.388Z"
   },
   {
    "duration": 171,
    "start_time": "2023-03-09T13:46:41.394Z"
   },
   {
    "duration": 183,
    "start_time": "2023-03-09T13:46:41.829Z"
   },
   {
    "duration": 8,
    "start_time": "2023-03-09T13:46:42.788Z"
   },
   {
    "duration": 170,
    "start_time": "2023-03-09T13:46:43.416Z"
   },
   {
    "duration": 7,
    "start_time": "2023-03-09T13:46:43.588Z"
   },
   {
    "duration": 19,
    "start_time": "2023-03-09T13:46:44.219Z"
   },
   {
    "duration": 3,
    "start_time": "2023-03-09T13:48:25.628Z"
   },
   {
    "duration": 3,
    "start_time": "2023-03-09T13:48:28.621Z"
   },
   {
    "duration": 97,
    "start_time": "2023-03-09T13:48:40.174Z"
   },
   {
    "duration": 9,
    "start_time": "2023-03-09T13:50:09.356Z"
   },
   {
    "duration": 6,
    "start_time": "2023-03-09T13:50:17.919Z"
   },
   {
    "duration": 979,
    "start_time": "2023-03-09T13:55:19.239Z"
   },
   {
    "duration": 26,
    "start_time": "2023-03-09T13:55:20.865Z"
   },
   {
    "duration": 36,
    "start_time": "2023-03-09T13:55:21.038Z"
   },
   {
    "duration": 16,
    "start_time": "2023-03-09T13:55:21.264Z"
   },
   {
    "duration": 22,
    "start_time": "2023-03-09T13:55:21.848Z"
   },
   {
    "duration": 4,
    "start_time": "2023-03-09T13:55:21.998Z"
   },
   {
    "duration": 11,
    "start_time": "2023-03-09T13:55:22.598Z"
   },
   {
    "duration": 10,
    "start_time": "2023-03-09T13:55:22.821Z"
   },
   {
    "duration": 4,
    "start_time": "2023-03-09T13:55:22.887Z"
   },
   {
    "duration": 3,
    "start_time": "2023-03-09T13:55:23.147Z"
   },
   {
    "duration": 11,
    "start_time": "2023-03-09T13:55:23.259Z"
   },
   {
    "duration": 12,
    "start_time": "2023-03-09T13:55:23.427Z"
   },
   {
    "duration": 5,
    "start_time": "2023-03-09T13:55:23.635Z"
   },
   {
    "duration": 6,
    "start_time": "2023-03-09T13:55:23.840Z"
   },
   {
    "duration": 5,
    "start_time": "2023-03-09T13:55:24.032Z"
   },
   {
    "duration": 5,
    "start_time": "2023-03-09T13:55:24.208Z"
   },
   {
    "duration": 5,
    "start_time": "2023-03-09T13:55:24.420Z"
   },
   {
    "duration": 5,
    "start_time": "2023-03-09T13:55:24.593Z"
   },
   {
    "duration": 6,
    "start_time": "2023-03-09T13:55:24.858Z"
   },
   {
    "duration": 8,
    "start_time": "2023-03-09T13:55:25.368Z"
   },
   {
    "duration": 5,
    "start_time": "2023-03-09T13:55:25.589Z"
   },
   {
    "duration": 9,
    "start_time": "2023-03-09T13:55:25.791Z"
   },
   {
    "duration": 11,
    "start_time": "2023-03-09T13:55:26.193Z"
   },
   {
    "duration": 7,
    "start_time": "2023-03-09T13:55:27.929Z"
   },
   {
    "duration": 6,
    "start_time": "2023-03-09T13:55:28.129Z"
   },
   {
    "duration": 144,
    "start_time": "2023-03-09T13:55:28.342Z"
   },
   {
    "duration": 98,
    "start_time": "2023-03-09T13:55:28.555Z"
   },
   {
    "duration": 6,
    "start_time": "2023-03-09T13:55:28.766Z"
   },
   {
    "duration": 257,
    "start_time": "2023-03-09T13:55:28.925Z"
   },
   {
    "duration": 6,
    "start_time": "2023-03-09T13:55:29.590Z"
   },
   {
    "duration": 241,
    "start_time": "2023-03-09T13:55:29.817Z"
   },
   {
    "duration": 386,
    "start_time": "2023-03-09T13:55:30.649Z"
   },
   {
    "duration": 263,
    "start_time": "2023-03-09T13:55:31.292Z"
   },
   {
    "duration": 368,
    "start_time": "2023-03-09T13:55:32.039Z"
   },
   {
    "duration": 106,
    "start_time": "2023-03-09T13:55:33.325Z"
   },
   {
    "duration": 9,
    "start_time": "2023-03-09T13:55:34.055Z"
   },
   {
    "duration": 119,
    "start_time": "2023-03-09T13:55:34.624Z"
   },
   {
    "duration": 4,
    "start_time": "2023-03-09T13:55:35.256Z"
   },
   {
    "duration": 175,
    "start_time": "2023-03-09T13:55:36.396Z"
   },
   {
    "duration": 163,
    "start_time": "2023-03-09T13:55:36.767Z"
   },
   {
    "duration": 9,
    "start_time": "2023-03-09T13:55:37.714Z"
   },
   {
    "duration": 147,
    "start_time": "2023-03-09T13:55:38.409Z"
   },
   {
    "duration": 8,
    "start_time": "2023-03-09T13:55:38.632Z"
   },
   {
    "duration": 19,
    "start_time": "2023-03-09T13:55:39.142Z"
   },
   {
    "duration": 13,
    "start_time": "2023-03-09T13:58:23.178Z"
   },
   {
    "duration": 13,
    "start_time": "2023-03-09T13:59:53.426Z"
   },
   {
    "duration": 4,
    "start_time": "2023-03-09T14:11:46.832Z"
   },
   {
    "duration": 4,
    "start_time": "2023-03-09T14:11:54.112Z"
   },
   {
    "duration": 5,
    "start_time": "2023-03-09T14:12:01.365Z"
   },
   {
    "duration": 1011,
    "start_time": "2023-03-09T18:07:13.691Z"
   },
   {
    "duration": 61,
    "start_time": "2023-03-09T18:07:14.704Z"
   },
   {
    "duration": 135,
    "start_time": "2023-03-09T18:07:14.766Z"
   },
   {
    "duration": 54,
    "start_time": "2023-03-09T18:07:14.902Z"
   },
   {
    "duration": 24,
    "start_time": "2023-03-09T18:07:14.957Z"
   },
   {
    "duration": 8,
    "start_time": "2023-03-09T18:07:14.982Z"
   },
   {
    "duration": 12,
    "start_time": "2023-03-09T18:07:14.992Z"
   },
   {
    "duration": 10,
    "start_time": "2023-03-09T18:07:15.005Z"
   },
   {
    "duration": 16,
    "start_time": "2023-03-09T18:07:15.017Z"
   },
   {
    "duration": 7,
    "start_time": "2023-03-09T18:07:15.036Z"
   },
   {
    "duration": 18,
    "start_time": "2023-03-09T18:07:15.045Z"
   },
   {
    "duration": 17,
    "start_time": "2023-03-09T18:07:15.064Z"
   },
   {
    "duration": 5,
    "start_time": "2023-03-09T18:07:15.083Z"
   },
   {
    "duration": 7,
    "start_time": "2023-03-09T18:07:15.089Z"
   },
   {
    "duration": 7,
    "start_time": "2023-03-09T18:07:15.097Z"
   },
   {
    "duration": 7,
    "start_time": "2023-03-09T18:07:15.105Z"
   },
   {
    "duration": 23,
    "start_time": "2023-03-09T18:07:15.113Z"
   },
   {
    "duration": 6,
    "start_time": "2023-03-09T18:07:15.137Z"
   },
   {
    "duration": 10,
    "start_time": "2023-03-09T18:07:15.144Z"
   },
   {
    "duration": 5,
    "start_time": "2023-03-09T18:07:15.156Z"
   },
   {
    "duration": 6,
    "start_time": "2023-03-09T18:07:15.163Z"
   },
   {
    "duration": 10,
    "start_time": "2023-03-09T18:07:15.171Z"
   },
   {
    "duration": 6,
    "start_time": "2023-03-09T18:07:15.182Z"
   },
   {
    "duration": 11,
    "start_time": "2023-03-09T18:07:15.190Z"
   },
   {
    "duration": 39,
    "start_time": "2023-03-09T18:07:15.204Z"
   },
   {
    "duration": 12,
    "start_time": "2023-03-09T18:07:15.245Z"
   },
   {
    "duration": 13,
    "start_time": "2023-03-09T18:07:15.258Z"
   },
   {
    "duration": 175,
    "start_time": "2023-03-09T18:07:15.275Z"
   },
   {
    "duration": 109,
    "start_time": "2023-03-09T18:07:15.451Z"
   },
   {
    "duration": 6,
    "start_time": "2023-03-09T18:07:15.561Z"
   },
   {
    "duration": 282,
    "start_time": "2023-03-09T18:07:15.569Z"
   },
   {
    "duration": 8,
    "start_time": "2023-03-09T18:07:15.853Z"
   },
   {
    "duration": 282,
    "start_time": "2023-03-09T18:07:15.862Z"
   },
   {
    "duration": 392,
    "start_time": "2023-03-09T18:07:16.146Z"
   },
   {
    "duration": 285,
    "start_time": "2023-03-09T18:07:16.540Z"
   },
   {
    "duration": 476,
    "start_time": "2023-03-09T18:07:16.827Z"
   },
   {
    "duration": 139,
    "start_time": "2023-03-09T18:07:17.306Z"
   },
   {
    "duration": 10,
    "start_time": "2023-03-09T18:07:17.446Z"
   },
   {
    "duration": 151,
    "start_time": "2023-03-09T18:07:17.458Z"
   },
   {
    "duration": 5,
    "start_time": "2023-03-09T18:07:17.610Z"
   },
   {
    "duration": 216,
    "start_time": "2023-03-09T18:07:17.617Z"
   },
   {
    "duration": 187,
    "start_time": "2023-03-09T18:07:17.835Z"
   },
   {
    "duration": 14,
    "start_time": "2023-03-09T18:07:18.024Z"
   },
   {
    "duration": 144,
    "start_time": "2023-03-09T18:07:18.040Z"
   },
   {
    "duration": 8,
    "start_time": "2023-03-09T18:07:18.185Z"
   },
   {
    "duration": 76,
    "start_time": "2023-03-09T18:07:18.194Z"
   },
   {
    "duration": 13,
    "start_time": "2023-03-09T18:07:18.272Z"
   },
   {
    "duration": 1446,
    "start_time": "2023-03-11T03:28:00.953Z"
   }
  ],
  "kernelspec": {
   "display_name": "Python 3 (ipykernel)",
   "language": "python",
   "name": "python3"
  },
  "language_info": {
   "codemirror_mode": {
    "name": "ipython",
    "version": 3
   },
   "file_extension": ".py",
   "mimetype": "text/x-python",
   "name": "python",
   "nbconvert_exporter": "python",
   "pygments_lexer": "ipython3",
   "version": "3.9.5"
  },
  "toc": {
   "base_numbering": 1,
   "nav_menu": {},
   "number_sections": true,
   "sideBar": true,
   "skip_h1_title": true,
   "title_cell": "Table of Contents",
   "title_sidebar": "Contents",
   "toc_cell": false,
   "toc_position": {},
   "toc_section_display": true,
   "toc_window_display": false
  }
 },
 "nbformat": 4,
 "nbformat_minor": 2
}
